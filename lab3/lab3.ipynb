{
 "cells": [
  {
   "cell_type": "markdown",
   "metadata": {},
   "source": [
    "# Лабораторна робота 3\n",
    "### Студентки групи МІТ-31 \n",
    "### Рубан Маргарити Юріївни\n",
    "\n",
    "Завдання\n",
    "\n",
    "Створити набір даних за допомогою DatasetGenerator\n",
    "\n",
    "Завантажити набір даних для класифікації на сайті (у кожного студента має бути інший - прошу організуватись відповідним чином)\n",
    "\n",
    "(опціонально для отримання відмінної оцінки) Згенерувати набір даних для класифікації на основі звичайних можливостей Python.\n",
    "\n",
    "Для отриманих наборів даних провести встановленні кроки моделювання.\n",
    "\n",
    "Отримані результати викласти на github у репозиторій ml2021 в основну (default) гілку в папці Lab3."
   ]
  },
  {
   "cell_type": "code",
   "execution_count": 67,
   "metadata": {},
   "outputs": [],
   "source": [
    "import pandas as pd\n",
    "import numpy as np\n",
    "import matplotlib.pyplot as plt\n",
    "import seaborn as sns\n",
    "from sklearn.datasets import make_regression"
   ]
  },
  {
   "cell_type": "code",
   "execution_count": 68,
   "metadata": {},
   "outputs": [
    {
     "name": "stdout",
     "output_type": "stream",
     "text": [
      "[[ 1.76411633 -0.70083248  0.21378384 ... -0.00989759  0.36341647\n",
      "   0.10610156]\n",
      " [-1.18051054  0.47930601 -0.46338355 ... -0.89054876 -0.52308304\n",
      "   0.24894457]\n",
      " [-1.05040653  0.18201006 -2.83055309 ...  1.15986226 -0.28040077\n",
      "  -2.06308057]\n",
      " ...\n",
      " [-0.81950196 -0.65910961  0.39395424 ...  0.25479449  0.75873474\n",
      "  -0.41527491]\n",
      " [ 0.39347041 -0.92030756  1.19677889 ...  0.72557178  0.32725388\n",
      "  -0.33798658]\n",
      " [-1.30552537  0.36234121 -1.15195067 ... -0.64315656 -1.30654571\n",
      "   0.51711668]] [ 105.00980535  -68.00852068 -266.19890197 -251.63570162 -170.0326261\n",
      "   28.50165774 -197.17645567  -11.81763489  -30.36157956  -14.81333553\n",
      "  119.04601705    7.20104561 -337.74156793  310.89001765  209.42369295\n",
      "  -39.11675073  115.37499705 -202.4689281   233.52109927 -211.68129214\n",
      "  122.17616298   25.05597822  244.31865103 -189.90592411 -420.8918583\n",
      "  160.03467759 -135.46357596  -15.74612454  -24.93215843  146.66457692\n",
      "  -78.95835867  207.22685814  141.7144637  -151.21486125  265.21624227\n",
      " -125.35823256 -154.08919047  220.61479269  260.72530889  262.98141909\n",
      " -122.64837412  485.05642046 -586.10557297 -246.38706414  165.36236699\n",
      " -184.59179314  -54.76074413  -12.7307337   124.4435399    84.04410006\n",
      "  159.31681664 -314.61538614  222.55080553  105.07521996   -1.10030934\n",
      "  118.52837073 -289.94922087  134.102548    232.25475956  139.36225987\n",
      "   17.13205073 -229.48893712  161.60098002 -247.94763379   67.73519028\n",
      "  158.26533282  146.6010173    61.9957174  -312.88763462 -370.34503319\n",
      "   45.81698995   40.13277191  127.81217115  -21.74049227  147.53269447\n",
      "  119.81359732  114.3547808  -138.83491011 -258.80995772 -158.68425499\n",
      "  -64.41422172  -58.63055003  295.46182641 -112.58767876   76.7802662\n",
      " -271.10688041  172.79183374  -96.77265816  -55.15382092  101.01000405\n",
      "  -83.87967044 -220.69623361  134.21285809   34.74903582  111.20981206\n",
      " -157.27481681  249.59617116  242.76015925  274.12636718  -44.12003398\n",
      "   80.64695668 -120.80701642    9.15381079  -54.87271164   75.38743263\n",
      "   81.02712042   81.74095363  -40.22652086    2.84543976 -152.73846572\n",
      "  -82.37872939  489.25649869 -117.31836361  365.74072898  -86.03524091\n",
      "  -92.51821085  -56.5109971    89.7375295  -209.26977265  -32.18716319\n",
      "   20.58604288 -505.89497642   85.62906897  -64.96940027  -55.33892697\n",
      " -448.62998658  -48.98671847   77.52373287  119.88936007 -168.50409894\n",
      "   85.86703508 -120.03646294  -91.72278657  -23.21791623   93.73120301\n",
      "   60.80254192    4.15673358  -15.34664142  -53.98473458  378.35178573\n",
      "   96.99838843   14.94862873  -71.57128774 -116.24407597   41.11615869\n",
      "  221.67560561  118.51610994  -51.41679421 -131.24700555  -65.64621238\n",
      "   93.63420274  -99.85952134   98.45538866  544.61973622   -4.0689304\n",
      " -124.49807815  -62.36666348  -51.57308408  -11.72097026 -173.20351173\n",
      " -141.76969269 -138.41512685  177.09941883   71.94354827  225.03695845\n",
      "  213.07081119 -301.54886225  -68.90326049   84.36162472  -45.11387974\n",
      "  176.73192864 -133.20499095 -133.55280369  139.19614775  225.79608606\n",
      " -212.71836658   -4.94313322  -60.47074449  267.64225645  126.06444888\n",
      "  157.51964113  -53.07523202   24.12170405   19.95336396  -61.55052841\n",
      "  370.50435989 -167.47254838  -59.89621271  100.62391789 -268.06223485\n",
      " -246.9704697   131.50169718 -158.03379943  357.71888102  -15.10240505\n",
      "  -13.8906668    -5.66841547   68.04011956  101.35880217 -128.38300558\n",
      "  247.48097511    7.43914704   39.07074681  294.90586644  -73.09213674\n",
      " -153.86856538  197.32669874  279.32843871   85.71761673    6.71612613\n",
      "   81.24885562    6.04044163 -174.1037699   346.57926085  355.86401193\n",
      "   41.06216481 -140.96363167 -161.79051657  -81.64086616  173.96179538\n",
      "   22.49852426   79.38698931    3.74999765   -6.71592756  215.4929875\n",
      "   45.70822045 -267.11331661   61.44331074  -36.27047453  -21.78228873\n",
      "   82.94812044 -229.68551886  266.70367667  -93.21453369  217.4154456\n",
      "   63.09745886   90.42666345 -174.8064514   -84.45359126  296.6975099\n",
      "  -62.50109601 -307.22402853  234.65978166   28.79670037  -10.80141518\n",
      " -268.97680597  115.48725129  -86.59744547 -109.25054529  131.46206059\n",
      " -117.17200765  241.18909717  -22.93942608  -82.30754033  -53.14125437\n",
      "  -72.07674348 -119.7271207     1.36072863 -241.058564   -102.56468085\n",
      "   -5.93545222  -56.15635752  -15.77406457  193.1430434  -263.80353123\n",
      "  304.77152733 -292.68326261   92.00860015 -114.85518415 -185.33197755\n",
      " -142.21499566 -141.22229345  266.97762553  367.11273058  190.68396579\n",
      "  296.62308689  207.93673124 -203.35957878   37.12332579  204.65720438\n",
      "  174.57122323   43.67669903 -122.88698069 -104.71111374  -17.5316717\n",
      "   93.61692062 -164.02803494  135.14634184 -302.66798046  -56.90003173\n",
      " -161.72394235  197.44860595 -357.35187725  125.3039157  -246.06881055\n",
      "  -10.69173898  143.58755418 -209.38731457 -320.22887593   87.83325666\n",
      "   81.36020418   74.54865214  194.92758688  -51.05928304  192.31234644\n",
      "    5.06194043 -241.02005688   26.51291072 -344.47223956  -85.2371823\n",
      "  -77.03430561 -122.81454715 -111.7617776  -296.56682175   94.25479001\n",
      "  233.00239455 -247.25355487 -205.57433762   52.20541486  276.09295028\n",
      " -137.7775337   114.17030687 -154.42290815   10.80300186   76.39873017\n",
      " -128.92669495   37.10692453  194.85931109  -54.82230351   99.78295837\n",
      " -264.12626307 -194.56359041 -258.85593005 -336.84012968 -182.97685105\n",
      " -267.94270972  461.97773422  317.55808542  215.17202658  181.67326148\n",
      "   49.9503145   262.13429341  141.01464008   95.70636697 -108.78871784\n",
      "   69.15882481  -60.21446061  180.32921946  375.42851314   -3.16404044\n",
      "  -80.74753303  304.04881335 -143.25653679  322.34666333  -12.82403017\n",
      "  296.41384836  -18.60847178 -146.53515283  103.26463784 -255.33507556\n",
      "   28.65159845 -135.83625634  312.04354177 -217.95624707 -138.91231371\n",
      "   41.23020988 -130.66248963  105.87262561   24.40990467 -103.18849383\n",
      "  -33.03884687   20.82448592  313.23727298  147.69450053  249.07898101\n",
      " -145.29148335   58.44189897  245.88297258 -290.81848158  -22.0268221\n",
      "  -92.05835765 -141.40850035  -87.52071193  260.54335996  135.52965457\n",
      " -382.00875758  316.1678501  -144.23631352 -173.53727668   24.13332595\n",
      "  281.49627154 -346.51911994  261.72486735  -64.87956538 -184.20807403\n",
      "  191.3408801    86.83933734   90.17882877 -301.25084914  -26.14390022\n",
      "  160.86966694   14.25898789   82.29608714 -193.12183838 -145.32335534\n",
      "  -28.8574576     8.78022487  -19.35710654 -182.65551244   53.99512834\n",
      " -312.05194529  490.23521473   37.83580335   80.72114641   -3.75060017\n",
      "  -63.51677556  -46.90683362 -212.26524735  259.05562067  254.47389603\n",
      "  108.59479774   70.31517735   70.99172891 -150.85731681   71.71950904\n",
      "  -70.75097817  -95.49277338  247.464059   -226.08822464  156.98766762\n",
      "   14.95590323  209.17851768  -60.10692898   31.40117326   13.66982315\n",
      " -203.83054899   45.78810575  -91.05099117 -222.92248068 -146.68493301\n",
      " -202.32465559  273.01647415   92.95412562  185.85317124 -100.63034301\n",
      "   -7.45619674 -133.25132286   82.38166353 -142.18796972 -102.32833378\n",
      "  436.92539272  -66.536353    108.17041462 -152.40452352 -458.31296092\n",
      "  217.37560738 -192.67451233   -7.99341201  -49.90434263  184.23733396\n",
      " -256.69190103  155.23630173   81.87323558  225.49847744  -39.75178702\n",
      "   75.4144834  -197.21603424  277.42948882  -72.28627595   89.6010328\n",
      "  -73.15023651  120.32893898 -252.65423119    5.20347383   25.44332519\n",
      "  -92.4338966  -109.80860888  107.70919001  104.93651867 -126.41658746\n",
      " -285.71760164 -128.08749548  327.74135325  -30.19701255 -119.87137319\n",
      "   21.88019856  135.17529362 -232.05392674   45.05044373  -64.18996444\n",
      " -148.72028884 -188.16854498  116.00796607   97.22872135  148.95159265\n",
      "   44.32891781   75.05966035  -10.28697403  -15.35625309   35.97355074\n",
      "  -31.56514956 -242.90928621 -262.89420296 -255.47351689  246.83980427\n",
      "  -70.40385251   29.61761082 -118.67482134   18.59860368   61.18941372\n",
      "  108.60176972 -258.13136809]\n"
     ]
    }
   ],
   "source": [
    "X, y = make_regression(n_samples=512, n_features=10, n_informative=512, n_targets=1,  noise=0.0, shuffle=True, coef=False, random_state=None)\n",
    "\n",
    "print(X,y)"
   ]
  },
  {
   "cell_type": "code",
   "execution_count": 69,
   "metadata": {},
   "outputs": [
    {
     "data": {
      "text/html": [
       "<div>\n",
       "<style scoped>\n",
       "    .dataframe tbody tr th:only-of-type {\n",
       "        vertical-align: middle;\n",
       "    }\n",
       "\n",
       "    .dataframe tbody tr th {\n",
       "        vertical-align: top;\n",
       "    }\n",
       "\n",
       "    .dataframe thead th {\n",
       "        text-align: right;\n",
       "    }\n",
       "</style>\n",
       "<table border=\"1\" class=\"dataframe\">\n",
       "  <thead>\n",
       "    <tr style=\"text-align: right;\">\n",
       "      <th></th>\n",
       "      <th>0</th>\n",
       "      <th>1</th>\n",
       "      <th>2</th>\n",
       "      <th>3</th>\n",
       "      <th>4</th>\n",
       "      <th>5</th>\n",
       "      <th>6</th>\n",
       "      <th>7</th>\n",
       "      <th>8</th>\n",
       "      <th>9</th>\n",
       "    </tr>\n",
       "  </thead>\n",
       "  <tbody>\n",
       "    <tr>\n",
       "      <th>105.009805</th>\n",
       "      <td>1.764116</td>\n",
       "      <td>-0.700832</td>\n",
       "      <td>0.213784</td>\n",
       "      <td>1.206738</td>\n",
       "      <td>-0.206180</td>\n",
       "      <td>0.384669</td>\n",
       "      <td>-0.211200</td>\n",
       "      <td>-0.009898</td>\n",
       "      <td>0.363416</td>\n",
       "      <td>0.106102</td>\n",
       "    </tr>\n",
       "    <tr>\n",
       "      <th>-68.008521</th>\n",
       "      <td>-1.180511</td>\n",
       "      <td>0.479306</td>\n",
       "      <td>-0.463384</td>\n",
       "      <td>-0.660395</td>\n",
       "      <td>-0.520003</td>\n",
       "      <td>1.214487</td>\n",
       "      <td>0.967177</td>\n",
       "      <td>-0.890549</td>\n",
       "      <td>-0.523083</td>\n",
       "      <td>0.248945</td>\n",
       "    </tr>\n",
       "    <tr>\n",
       "      <th>-266.198902</th>\n",
       "      <td>-1.050407</td>\n",
       "      <td>0.182010</td>\n",
       "      <td>-2.830553</td>\n",
       "      <td>-0.134904</td>\n",
       "      <td>0.366075</td>\n",
       "      <td>-0.026655</td>\n",
       "      <td>-1.303157</td>\n",
       "      <td>1.159862</td>\n",
       "      <td>-0.280401</td>\n",
       "      <td>-2.063081</td>\n",
       "    </tr>\n",
       "    <tr>\n",
       "      <th>-251.635702</th>\n",
       "      <td>0.829735</td>\n",
       "      <td>-0.420920</td>\n",
       "      <td>-2.320238</td>\n",
       "      <td>1.446120</td>\n",
       "      <td>-0.215530</td>\n",
       "      <td>-2.553943</td>\n",
       "      <td>0.890399</td>\n",
       "      <td>-1.002068</td>\n",
       "      <td>-0.257824</td>\n",
       "      <td>-0.346917</td>\n",
       "    </tr>\n",
       "    <tr>\n",
       "      <th>-170.032626</th>\n",
       "      <td>-0.542122</td>\n",
       "      <td>-1.190250</td>\n",
       "      <td>0.268767</td>\n",
       "      <td>-0.112417</td>\n",
       "      <td>0.970564</td>\n",
       "      <td>-1.197289</td>\n",
       "      <td>0.099090</td>\n",
       "      <td>-0.528291</td>\n",
       "      <td>0.000836</td>\n",
       "      <td>-0.319295</td>\n",
       "    </tr>\n",
       "  </tbody>\n",
       "</table>\n",
       "</div>"
      ],
      "text/plain": [
       "                    0         1         2         3         4         5  \\\n",
       " 105.009805  1.764116 -0.700832  0.213784  1.206738 -0.206180  0.384669   \n",
       "-68.008521  -1.180511  0.479306 -0.463384 -0.660395 -0.520003  1.214487   \n",
       "-266.198902 -1.050407  0.182010 -2.830553 -0.134904  0.366075 -0.026655   \n",
       "-251.635702  0.829735 -0.420920 -2.320238  1.446120 -0.215530 -2.553943   \n",
       "-170.032626 -0.542122 -1.190250  0.268767 -0.112417  0.970564 -1.197289   \n",
       "\n",
       "                    6         7         8         9  \n",
       " 105.009805 -0.211200 -0.009898  0.363416  0.106102  \n",
       "-68.008521   0.967177 -0.890549 -0.523083  0.248945  \n",
       "-266.198902 -1.303157  1.159862 -0.280401 -2.063081  \n",
       "-251.635702  0.890399 -1.002068 -0.257824 -0.346917  \n",
       "-170.032626  0.099090 -0.528291  0.000836 -0.319295  "
      ]
     },
     "execution_count": 69,
     "metadata": {},
     "output_type": "execute_result"
    }
   ],
   "source": [
    "df = pd.DataFrame(X, y)\n",
    "df.to_csv('sklearn_data_set.csv')\n",
    "df.head()"
   ]
  },
  {
   "cell_type": "code",
   "execution_count": 70,
   "metadata": {},
   "outputs": [
    {
     "data": {
      "text/html": [
       "<div>\n",
       "<style scoped>\n",
       "    .dataframe tbody tr th:only-of-type {\n",
       "        vertical-align: middle;\n",
       "    }\n",
       "\n",
       "    .dataframe tbody tr th {\n",
       "        vertical-align: top;\n",
       "    }\n",
       "\n",
       "    .dataframe thead th {\n",
       "        text-align: right;\n",
       "    }\n",
       "</style>\n",
       "<table border=\"1\" class=\"dataframe\">\n",
       "  <thead>\n",
       "    <tr style=\"text-align: right;\">\n",
       "      <th></th>\n",
       "      <th>Age</th>\n",
       "      <th>Sex</th>\n",
       "      <th>ChestPainType</th>\n",
       "      <th>RestingBP</th>\n",
       "      <th>Cholesterol</th>\n",
       "      <th>FastingBS</th>\n",
       "      <th>RestingECG</th>\n",
       "      <th>MaxHR</th>\n",
       "      <th>ExerciseAngina</th>\n",
       "      <th>Oldpeak</th>\n",
       "      <th>ST_Slope</th>\n",
       "      <th>HeartDisease</th>\n",
       "    </tr>\n",
       "  </thead>\n",
       "  <tbody>\n",
       "    <tr>\n",
       "      <th>0</th>\n",
       "      <td>40</td>\n",
       "      <td>M</td>\n",
       "      <td>ATA</td>\n",
       "      <td>140</td>\n",
       "      <td>289</td>\n",
       "      <td>0</td>\n",
       "      <td>Normal</td>\n",
       "      <td>172</td>\n",
       "      <td>N</td>\n",
       "      <td>0.0</td>\n",
       "      <td>Up</td>\n",
       "      <td>0</td>\n",
       "    </tr>\n",
       "    <tr>\n",
       "      <th>1</th>\n",
       "      <td>49</td>\n",
       "      <td>F</td>\n",
       "      <td>NAP</td>\n",
       "      <td>160</td>\n",
       "      <td>180</td>\n",
       "      <td>0</td>\n",
       "      <td>Normal</td>\n",
       "      <td>156</td>\n",
       "      <td>N</td>\n",
       "      <td>1.0</td>\n",
       "      <td>Flat</td>\n",
       "      <td>1</td>\n",
       "    </tr>\n",
       "    <tr>\n",
       "      <th>2</th>\n",
       "      <td>37</td>\n",
       "      <td>M</td>\n",
       "      <td>ATA</td>\n",
       "      <td>130</td>\n",
       "      <td>283</td>\n",
       "      <td>0</td>\n",
       "      <td>ST</td>\n",
       "      <td>98</td>\n",
       "      <td>N</td>\n",
       "      <td>0.0</td>\n",
       "      <td>Up</td>\n",
       "      <td>0</td>\n",
       "    </tr>\n",
       "    <tr>\n",
       "      <th>3</th>\n",
       "      <td>48</td>\n",
       "      <td>F</td>\n",
       "      <td>ASY</td>\n",
       "      <td>138</td>\n",
       "      <td>214</td>\n",
       "      <td>0</td>\n",
       "      <td>Normal</td>\n",
       "      <td>108</td>\n",
       "      <td>Y</td>\n",
       "      <td>1.5</td>\n",
       "      <td>Flat</td>\n",
       "      <td>1</td>\n",
       "    </tr>\n",
       "    <tr>\n",
       "      <th>4</th>\n",
       "      <td>54</td>\n",
       "      <td>M</td>\n",
       "      <td>NAP</td>\n",
       "      <td>150</td>\n",
       "      <td>195</td>\n",
       "      <td>0</td>\n",
       "      <td>Normal</td>\n",
       "      <td>122</td>\n",
       "      <td>N</td>\n",
       "      <td>0.0</td>\n",
       "      <td>Up</td>\n",
       "      <td>0</td>\n",
       "    </tr>\n",
       "  </tbody>\n",
       "</table>\n",
       "</div>"
      ],
      "text/plain": [
       "   Age Sex ChestPainType  RestingBP  Cholesterol  FastingBS RestingECG  MaxHR  \\\n",
       "0   40   M           ATA        140          289          0     Normal    172   \n",
       "1   49   F           NAP        160          180          0     Normal    156   \n",
       "2   37   M           ATA        130          283          0         ST     98   \n",
       "3   48   F           ASY        138          214          0     Normal    108   \n",
       "4   54   M           NAP        150          195          0     Normal    122   \n",
       "\n",
       "  ExerciseAngina  Oldpeak ST_Slope  HeartDisease  \n",
       "0              N      0.0       Up             0  \n",
       "1              N      1.0     Flat             1  \n",
       "2              N      0.0       Up             0  \n",
       "3              Y      1.5     Flat             1  \n",
       "4              N      0.0       Up             0  "
      ]
     },
     "execution_count": 70,
     "metadata": {},
     "output_type": "execute_result"
    }
   ],
   "source": [
    "df = pd.read_csv('heart.csv')\n",
    "df.head()"
   ]
  },
  {
   "cell_type": "code",
   "execution_count": 71,
   "metadata": {},
   "outputs": [],
   "source": [
    "df.replace({'M': 0, 'F':1,  \"Normal\":0, \"LVH\":1, \"ST\":2, \"N\":0, \"Y\":1, \"Flat\":0, \"Up\":1, \"Down\":2}, None, True)\n",
    "#\"TA\":0, \"ASY\":1, \"ATA\":2, \"NAP\":3,"
   ]
  },
  {
   "cell_type": "code",
   "execution_count": 72,
   "metadata": {},
   "outputs": [
    {
     "data": {
      "text/html": [
       "<div>\n",
       "<style scoped>\n",
       "    .dataframe tbody tr th:only-of-type {\n",
       "        vertical-align: middle;\n",
       "    }\n",
       "\n",
       "    .dataframe tbody tr th {\n",
       "        vertical-align: top;\n",
       "    }\n",
       "\n",
       "    .dataframe thead th {\n",
       "        text-align: right;\n",
       "    }\n",
       "</style>\n",
       "<table border=\"1\" class=\"dataframe\">\n",
       "  <thead>\n",
       "    <tr style=\"text-align: right;\">\n",
       "      <th></th>\n",
       "      <th>Age</th>\n",
       "      <th>Sex</th>\n",
       "      <th>ChestPainType</th>\n",
       "      <th>RestingBP</th>\n",
       "      <th>Cholesterol</th>\n",
       "      <th>FastingBS</th>\n",
       "      <th>RestingECG</th>\n",
       "      <th>MaxHR</th>\n",
       "      <th>ExerciseAngina</th>\n",
       "      <th>Oldpeak</th>\n",
       "      <th>ST_Slope</th>\n",
       "      <th>HeartDisease</th>\n",
       "    </tr>\n",
       "  </thead>\n",
       "  <tbody>\n",
       "    <tr>\n",
       "      <th>913</th>\n",
       "      <td>45</td>\n",
       "      <td>0</td>\n",
       "      <td>TA</td>\n",
       "      <td>110</td>\n",
       "      <td>264</td>\n",
       "      <td>0</td>\n",
       "      <td>0</td>\n",
       "      <td>132</td>\n",
       "      <td>0</td>\n",
       "      <td>1.2</td>\n",
       "      <td>0</td>\n",
       "      <td>1</td>\n",
       "    </tr>\n",
       "    <tr>\n",
       "      <th>914</th>\n",
       "      <td>68</td>\n",
       "      <td>0</td>\n",
       "      <td>ASY</td>\n",
       "      <td>144</td>\n",
       "      <td>193</td>\n",
       "      <td>1</td>\n",
       "      <td>0</td>\n",
       "      <td>141</td>\n",
       "      <td>0</td>\n",
       "      <td>3.4</td>\n",
       "      <td>0</td>\n",
       "      <td>1</td>\n",
       "    </tr>\n",
       "    <tr>\n",
       "      <th>915</th>\n",
       "      <td>57</td>\n",
       "      <td>0</td>\n",
       "      <td>ASY</td>\n",
       "      <td>130</td>\n",
       "      <td>131</td>\n",
       "      <td>0</td>\n",
       "      <td>0</td>\n",
       "      <td>115</td>\n",
       "      <td>1</td>\n",
       "      <td>1.2</td>\n",
       "      <td>0</td>\n",
       "      <td>1</td>\n",
       "    </tr>\n",
       "    <tr>\n",
       "      <th>916</th>\n",
       "      <td>57</td>\n",
       "      <td>1</td>\n",
       "      <td>ATA</td>\n",
       "      <td>130</td>\n",
       "      <td>236</td>\n",
       "      <td>0</td>\n",
       "      <td>1</td>\n",
       "      <td>174</td>\n",
       "      <td>0</td>\n",
       "      <td>0.0</td>\n",
       "      <td>0</td>\n",
       "      <td>1</td>\n",
       "    </tr>\n",
       "    <tr>\n",
       "      <th>917</th>\n",
       "      <td>38</td>\n",
       "      <td>0</td>\n",
       "      <td>NAP</td>\n",
       "      <td>138</td>\n",
       "      <td>175</td>\n",
       "      <td>0</td>\n",
       "      <td>0</td>\n",
       "      <td>173</td>\n",
       "      <td>0</td>\n",
       "      <td>0.0</td>\n",
       "      <td>1</td>\n",
       "      <td>0</td>\n",
       "    </tr>\n",
       "  </tbody>\n",
       "</table>\n",
       "</div>"
      ],
      "text/plain": [
       "     Age  Sex ChestPainType  RestingBP  Cholesterol  FastingBS  RestingECG  \\\n",
       "913   45    0            TA        110          264          0           0   \n",
       "914   68    0           ASY        144          193          1           0   \n",
       "915   57    0           ASY        130          131          0           0   \n",
       "916   57    1           ATA        130          236          0           1   \n",
       "917   38    0           NAP        138          175          0           0   \n",
       "\n",
       "     MaxHR  ExerciseAngina  Oldpeak  ST_Slope  HeartDisease  \n",
       "913    132               0      1.2         0             1  \n",
       "914    141               0      3.4         0             1  \n",
       "915    115               1      1.2         0             1  \n",
       "916    174               0      0.0         0             1  \n",
       "917    173               0      0.0         1             0  "
      ]
     },
     "execution_count": 72,
     "metadata": {},
     "output_type": "execute_result"
    }
   ],
   "source": [
    "df.tail(5)"
   ]
  },
  {
   "cell_type": "code",
   "execution_count": 73,
   "metadata": {},
   "outputs": [
    {
     "name": "stdout",
     "output_type": "stream",
     "text": [
      "(918, 12)\n"
     ]
    }
   ],
   "source": [
    "print(df.shape)"
   ]
  },
  {
   "cell_type": "code",
   "execution_count": 74,
   "metadata": {},
   "outputs": [
    {
     "name": "stdout",
     "output_type": "stream",
     "text": [
      "['ATA' 'NAP' 'ASY' 'TA']\n"
     ]
    }
   ],
   "source": [
    "print(df['ChestPainType'].unique())"
   ]
  },
  {
   "cell_type": "code",
   "execution_count": 75,
   "metadata": {},
   "outputs": [
    {
     "name": "stdout",
     "output_type": "stream",
     "text": [
      "ChestPainType\n",
      "ASY    496\n",
      "ATA    173\n",
      "NAP    203\n",
      "TA      46\n",
      "dtype: int64\n"
     ]
    }
   ],
   "source": [
    "print(df.groupby('ChestPainType').size())"
   ]
  },
  {
   "cell_type": "code",
   "execution_count": 76,
   "metadata": {},
   "outputs": [
    {
     "name": "stderr",
     "output_type": "stream",
     "text": [
      "/Users/margosha/opt/anaconda3/lib/python3.8/site-packages/seaborn/_decorators.py:36: FutureWarning: Pass the following variable as a keyword arg: x. From version 0.12, the only valid positional argument will be `data`, and passing other arguments without an explicit keyword will result in an error or misinterpretation.\n",
      "  warnings.warn(\n"
     ]
    },
    {
     "data": {
      "image/png": "[encoded data removed]",
      "text/plain": [
       "<Figure size 432x288 with 1 Axes>"
      ]
     },
     "metadata": {
      "needs_background": "light"
     },
     "output_type": "display_data"
    }
   ],
   "source": [
    "sns.countplot(df['ChestPainType'],label=\"Count\")\n",
    "plt.show()"
   ]
  },
  {
   "cell_type": "code",
   "execution_count": 77,
   "metadata": {},
   "outputs": [
    {
     "data": {
      "image/png": "[encoded data removed]",
      "text/plain": [
       "<Figure size 2160x1080 with 12 Axes>"
      ]
     },
     "metadata": {
      "needs_background": "light"
     },
     "output_type": "display_data"
    }
   ],
   "source": [
    "df.drop('ChestPainType', axis=1).plot(kind='box', subplots=True, layout=(2,6), sharex=False, sharey=False, figsize=(30,15), \n",
    "                                        title='Box Plot for each input variable')\n",
    "plt.savefig('data_box_plot')\n",
    "plt.show()"
   ]
  },
  {
   "cell_type": "code",
   "execution_count": 78,
   "metadata": {},
   "outputs": [
    {
     "data": {
      "image/png": "[encoded data removed]",
      "text/plain": [
       "<Figure size 864x864 with 12 Axes>"
      ]
     },
     "metadata": {
      "needs_background": "light"
     },
     "output_type": "display_data"
    }
   ],
   "source": [
    "import pylab as pl\n",
    "df.drop('ChestPainType' ,axis=1).hist(bins=60, figsize=(12,12))\n",
    "pl.suptitle(\"Histogram for each numeric input variable\")\n",
    "plt.savefig('data_hist')\n",
    "plt.show()"
   ]
  },
  {
   "cell_type": "code",
   "execution_count": 79,
   "metadata": {},
   "outputs": [],
   "source": [
    "import sklearn.model_selection\n",
    "import sklearn.datasets\n",
    "from sklearn.datasets import make_classification\n",
    "\n",
    "X, y = sklearn.datasets.make_classification(n_samples=1024, n_features=20, class_sep=0.98, random_state=0)\n",
    "model1 = (sklearn.model_selection.train_test_split(X, y, test_size=0.5, random_state=0),) # x_train, x_test, y_train, y_test\n",
    "\n",
    "model2 = pd.DataFrame(data={'X':[np.random.uniform(-4.0, 4.0) for i in range(1000)],'Y':[np.random.uniform(-300.0, 300.0) for i in range(1000)],'Z':['90.0' for i in range(1000)]})"
   ]
  },
  {
   "cell_type": "code",
   "execution_count": 80,
   "metadata": {},
   "outputs": [],
   "source": [
    "from sklearn.model_selection import train_test_split\n",
    "X_train, X_test, y_train, y_test = train_test_split(X, y, random_state=0)\n",
    "from sklearn.preprocessing import MinMaxScaler\n",
    "scaler = MinMaxScaler()\n",
    "X_train = scaler.fit_transform(X_train)\n",
    "X_test = scaler.transform(X_test)"
   ]
  },
  {
   "cell_type": "code",
   "execution_count": 81,
   "metadata": {},
   "outputs": [
    {
     "name": "stdout",
     "output_type": "stream",
     "text": [
      "Accuracy of Logistic regression classifier on training set: 0.92\n",
      "Accuracy of Logistic regression classifier on test set: 0.91\n"
     ]
    }
   ],
   "source": [
    "from sklearn.linear_model import LogisticRegression\n",
    "logreg = LogisticRegression()\n",
    "logreg.fit(X_train, y_train)\n",
    "print('Accuracy of Logistic regression classifier on training set: {:.2f}'\n",
    "     .format(logreg.score(X_train, y_train)))\n",
    "print('Accuracy of Logistic regression classifier on test set: {:.2f}'\n",
    "     .format(logreg.score(X_test, y_test)))"
   ]
  },
  {
   "cell_type": "code",
   "execution_count": 82,
   "metadata": {},
   "outputs": [
    {
     "name": "stdout",
     "output_type": "stream",
     "text": [
      "Accuracy of Decision Tree classifier on training set: 1.00\n",
      "Accuracy of Decision Tree classifier on test set: 0.88\n"
     ]
    }
   ],
   "source": [
    "from sklearn.tree import DecisionTreeClassifier\n",
    "clf = DecisionTreeClassifier().fit(X_train, y_train)\n",
    "print('Accuracy of Decision Tree classifier on training set: {:.2f}'\n",
    "     .format(clf.score(X_train, y_train)))\n",
    "print('Accuracy of Decision Tree classifier on test set: {:.2f}'\n",
    "     .format(clf.score(X_test, y_test)))"
   ]
  },
  {
   "cell_type": "code",
   "execution_count": 83,
   "metadata": {},
   "outputs": [
    {
     "name": "stdout",
     "output_type": "stream",
     "text": [
      "Accuracy of K-NN classifier on training set: 0.93\n",
      "Accuracy of K-NN classifier on test set: 0.87\n"
     ]
    }
   ],
   "source": [
    "from sklearn.neighbors import KNeighborsClassifier\n",
    "knn = KNeighborsClassifier()\n",
    "knn.fit(X_train, y_train)\n",
    "print('Accuracy of K-NN classifier on training set: {:.2f}'\n",
    "     .format(knn.score(X_train, y_train)))\n",
    "print('Accuracy of K-NN classifier on test set: {:.2f}'\n",
    "     .format(knn.score(X_test, y_test)))"
   ]
  },
  {
   "cell_type": "code",
   "execution_count": 84,
   "metadata": {},
   "outputs": [
    {
     "data": {
      "image/png": "[encoded data removed]",
      "text/plain": [
       "<Figure size 432x288 with 1 Axes>"
      ]
     },
     "metadata": {
      "needs_background": "light"
     },
     "output_type": "display_data"
    }
   ],
   "source": [
    "from sklearn import metrics\n",
    "from sklearn.neighbors import KNeighborsClassifier\n",
    "v=[]\n",
    "\n",
    "k_range = list(range(1, 50))\n",
    "for i in k_range:\n",
    "    knn = KNeighborsClassifier(n_neighbors=i)\n",
    "    knn.fit(X, y)\n",
    "    k_pred = knn.predict(X)\n",
    "    v.append( metrics.accuracy_score(y, k_pred))\n",
    "\n",
    "\n",
    "import matplotlib.pyplot as plt\n",
    "plt.plot(k_range,v,c='Blue',)\n",
    "plt.show()"
   ]
  },
  {
   "cell_type": "code",
   "execution_count": 85,
   "metadata": {},
   "outputs": [
    {
     "data": {
      "image/png": "[encoded data removed]",
      "text/plain": [
       "<Figure size 432x288 with 1 Axes>"
      ]
     },
     "metadata": {
      "needs_background": "light"
     },
     "output_type": "display_data"
    }
   ],
   "source": [
    "from sklearn import metrics\n",
    "v=[]\n",
    "\n",
    "\n",
    "k_range = list(range(1, 50))\n",
    "for i in k_range:\n",
    "    knn = KNeighborsClassifier(n_neighbors=i)\n",
    "    knn.fit(X_train, y_train)\n",
    "    k_pred = knn.predict(X_test)\n",
    "    v.append( metrics.accuracy_score(y_test, k_pred))\n",
    "\n",
    "\n",
    "\n",
    "import matplotlib.pyplot as plt\n",
    "plt.plot(k_range,v)\n",
    "\n",
    "plt.show()"
   ]
  },
  {
   "cell_type": "code",
   "execution_count": 86,
   "metadata": {},
   "outputs": [
    {
     "data": {
      "text/plain": [
       "0.875"
      ]
     },
     "execution_count": 86,
     "metadata": {},
     "output_type": "execute_result"
    }
   ],
   "source": [
    "knn = KNeighborsClassifier(n_neighbors=12)\n",
    "# fit the model with data\n",
    "knn.fit(X_train, y_train)\n",
    "k_pred = knn.predict(X_test)\n",
    "\n",
    "metrics.accuracy_score(y_test, k_pred)"
   ]
  },
  {
   "cell_type": "code",
   "execution_count": 87,
   "metadata": {},
   "outputs": [
    {
     "name": "stdout",
     "output_type": "stream",
     "text": [
      "Accuracy of LDA classifier on training set: 0.93\n",
      "Accuracy of LDA classifier on test set: 0.91\n"
     ]
    }
   ],
   "source": [
    "from sklearn.discriminant_analysis import LinearDiscriminantAnalysis\n",
    "lda = LinearDiscriminantAnalysis()\n",
    "lda.fit(X_train, y_train)\n",
    "print('Accuracy of LDA classifier on training set: {:.2f}'\n",
    "     .format(lda.score(X_train, y_train)))\n",
    "print('Accuracy of LDA classifier on test set: {:.2f}'\n",
    "     .format(lda.score(X_test, y_test)))"
   ]
  },
  {
   "cell_type": "code",
   "execution_count": 88,
   "metadata": {},
   "outputs": [
    {
     "name": "stdout",
     "output_type": "stream",
     "text": [
      "Accuracy of GNB classifier on training set: 0.92\n",
      "Accuracy of GNB classifier on test set: 0.88\n"
     ]
    }
   ],
   "source": [
    "from sklearn.naive_bayes import GaussianNB\n",
    "gnb = GaussianNB()\n",
    "gnb.fit(X_train, y_train)\n",
    "print('Accuracy of GNB classifier on training set: {:.2f}'\n",
    "     .format(gnb.score(X_train, y_train)))\n",
    "print('Accuracy of GNB classifier on test set: {:.2f}'\n",
    "     .format(gnb.score(X_test, y_test)))"
   ]
  },
  {
   "cell_type": "code",
   "execution_count": 89,
   "metadata": {},
   "outputs": [
    {
     "name": "stdout",
     "output_type": "stream",
     "text": [
      "Accuracy of SVM classifier on training set: 0.96\n",
      "Accuracy of SVM classifier on test set: 0.91\n"
     ]
    }
   ],
   "source": [
    "from sklearn.svm import SVC\n",
    "svm = SVC()\n",
    "svm.fit(X_train, y_train)\n",
    "print('Accuracy of SVM classifier on training set: {:.2f}'\n",
    "     .format(svm.score(X_train, y_train)))\n",
    "print('Accuracy of SVM classifier on test set: {:.2f}'\n",
    "     .format(svm.score(X_test, y_test)))"
   ]
  },
  {
   "cell_type": "code",
   "execution_count": 90,
   "metadata": {},
   "outputs": [
    {
     "name": "stdout",
     "output_type": "stream",
     "text": [
      "[[106  20]\n",
      " [ 12 118]]\n",
      "              precision    recall  f1-score   support\n",
      "\n",
      "           0       0.90      0.84      0.87       126\n",
      "           1       0.86      0.91      0.88       130\n",
      "\n",
      "    accuracy                           0.88       256\n",
      "   macro avg       0.88      0.87      0.87       256\n",
      "weighted avg       0.88      0.88      0.87       256\n",
      "\n"
     ]
    }
   ],
   "source": [
    "from sklearn.metrics import classification_report\n",
    "from sklearn.metrics import confusion_matrix\n",
    "pred = knn.predict(X_test)\n",
    "print(confusion_matrix(y_test, pred))\n",
    "print(classification_report(y_test, pred))"
   ]
  },
  {
   "cell_type": "code",
   "execution_count": 91,
   "metadata": {},
   "outputs": [
    {
     "name": "stderr",
     "output_type": "stream",
     "text": [
      "/Users/margosha/opt/anaconda3/lib/python3.8/site-packages/seaborn/axisgrid.py:316: UserWarning: The `size` parameter has been renamed to `height`; please update your code.\n",
      "  warnings.warn(msg, UserWarning)\n"
     ]
    },
    {
     "data": {
      "image/png": "[encoded data removed]",
      "text/plain": [
       "<Figure size 512.125x432 with 1 Axes>"
      ]
     },
     "metadata": {
      "needs_background": "light"
     },
     "output_type": "display_data"
    }
   ],
   "source": [
    "sns.FacetGrid(df, hue=\"ChestPainType\", size=6) \\\n",
    "   .map(plt.scatter, \"RestingBP\", \"Oldpeak\") \\\n",
    "   .add_legend()\n",
    "\n",
    "plt.show()"
   ]
  },
  {
   "cell_type": "code",
   "execution_count": 92,
   "metadata": {},
   "outputs": [
    {
     "data": {
      "text/plain": [
       "<seaborn.axisgrid.FacetGrid at 0x1228ea490>"
      ]
     },
     "execution_count": 92,
     "metadata": {},
     "output_type": "execute_result"
    },
    {
     "data": {
      "image/png": "[encoded data removed]",
      "text/plain": [
       "<Figure size 327.6x252 with 2 Axes>"
      ]
     },
     "metadata": {
      "needs_background": "light"
     },
     "output_type": "display_data"
    }
   ],
   "source": [
    "g = sns.FacetGrid(df, col=\"Sex\", height=3.5, aspect=.65)\n",
    "g.map(sns.histplot, \"ChestPainType\")"
   ]
  },
  {
   "cell_type": "code",
   "execution_count": 93,
   "metadata": {},
   "outputs": [],
   "source": [
    "import random as rnd\n",
    "\n",
    "sex = {0:'Man', 1:'Woman'}\n",
    "age = {0:'<30', 1:'>30'}\n",
    "car = {0:'have', 1:'dont have'}\n",
    "marital_status = {0:'YES', 1:'NO'}\n",
    "child = {0:'0', 1:'1', 2:'2', 3:'More than 3'}\n",
    "citizenship = {0:'Ukraine', 1:'Russia', 2:'Belorussia', 3:'Italia', 4:'France', 5:'Germany', 6:'Romania'}\n",
    "data = []\n",
    "for i in range(0, 512):\n",
    "    row = []\n",
    "    row.append(round(rnd.uniform(1, 50), 2))\n",
    "    row.append(round(rnd.uniform(1, 10), 2))\n",
    "    row.append(sex[rnd.randint(0, 1)])\n",
    "    row.append(age[rnd.randint(0, 1)])\n",
    "    row.append(car[rnd.randint(0, 1)])\n",
    "    row.append(marital_status[rnd.randint(0, 1)])\n",
    "    row.append(child[rnd.randint(0, 3)])\n",
    "    row.append(citizenship[rnd.randint(0, 6)])\n",
    "    data.append(row)\n",
    "df = pd.DataFrame(data, columns=['total_utility_bill', 'commission', 'sex', 'age', 'car', 'marital_status', 'child', 'citizenthip'])"
   ]
  },
  {
   "cell_type": "code",
   "execution_count": 94,
   "metadata": {},
   "outputs": [],
   "source": [
    "df.replace({'Man': 0, 'Woman':1, '<30': 0, '>30':1, 'have':0, 'dont have':1, 'YES':0, 'NO':1, '0':0, '1':1, '2':2, 'More than 3':3, 'Ukraine': 0\n",
    ", 'Russia':1, 'Belorussia':2, 'Italia':3, 'France':4, 'Germany':5, 'Romania':6}, None, True)\n",
    "\n",
    "df.to_csv('my_data_set.csv')"
   ]
  },
  {
   "cell_type": "code",
   "execution_count": 95,
   "metadata": {},
   "outputs": [
    {
     "data": {
      "text/html": [
       "<div>\n",
       "<style scoped>\n",
       "    .dataframe tbody tr th:only-of-type {\n",
       "        vertical-align: middle;\n",
       "    }\n",
       "\n",
       "    .dataframe tbody tr th {\n",
       "        vertical-align: top;\n",
       "    }\n",
       "\n",
       "    .dataframe thead th {\n",
       "        text-align: right;\n",
       "    }\n",
       "</style>\n",
       "<table border=\"1\" class=\"dataframe\">\n",
       "  <thead>\n",
       "    <tr style=\"text-align: right;\">\n",
       "      <th></th>\n",
       "      <th>total_utility_bill</th>\n",
       "      <th>commission</th>\n",
       "      <th>sex</th>\n",
       "      <th>age</th>\n",
       "      <th>car</th>\n",
       "      <th>marital_status</th>\n",
       "      <th>child</th>\n",
       "      <th>citizenthip</th>\n",
       "    </tr>\n",
       "  </thead>\n",
       "  <tbody>\n",
       "    <tr>\n",
       "      <th>0</th>\n",
       "      <td>21.99</td>\n",
       "      <td>5.58</td>\n",
       "      <td>1</td>\n",
       "      <td>1</td>\n",
       "      <td>0</td>\n",
       "      <td>0</td>\n",
       "      <td>0</td>\n",
       "      <td>0</td>\n",
       "    </tr>\n",
       "    <tr>\n",
       "      <th>1</th>\n",
       "      <td>15.68</td>\n",
       "      <td>5.90</td>\n",
       "      <td>0</td>\n",
       "      <td>1</td>\n",
       "      <td>1</td>\n",
       "      <td>0</td>\n",
       "      <td>0</td>\n",
       "      <td>6</td>\n",
       "    </tr>\n",
       "    <tr>\n",
       "      <th>2</th>\n",
       "      <td>7.93</td>\n",
       "      <td>5.26</td>\n",
       "      <td>1</td>\n",
       "      <td>1</td>\n",
       "      <td>1</td>\n",
       "      <td>1</td>\n",
       "      <td>0</td>\n",
       "      <td>2</td>\n",
       "    </tr>\n",
       "    <tr>\n",
       "      <th>3</th>\n",
       "      <td>24.03</td>\n",
       "      <td>6.76</td>\n",
       "      <td>0</td>\n",
       "      <td>1</td>\n",
       "      <td>0</td>\n",
       "      <td>0</td>\n",
       "      <td>2</td>\n",
       "      <td>2</td>\n",
       "    </tr>\n",
       "    <tr>\n",
       "      <th>4</th>\n",
       "      <td>4.68</td>\n",
       "      <td>8.50</td>\n",
       "      <td>0</td>\n",
       "      <td>1</td>\n",
       "      <td>0</td>\n",
       "      <td>1</td>\n",
       "      <td>3</td>\n",
       "      <td>5</td>\n",
       "    </tr>\n",
       "  </tbody>\n",
       "</table>\n",
       "</div>"
      ],
      "text/plain": [
       "   total_utility_bill  commission  sex  age  car  marital_status  child  \\\n",
       "0               21.99        5.58    1    1    0               0      0   \n",
       "1               15.68        5.90    0    1    1               0      0   \n",
       "2                7.93        5.26    1    1    1               1      0   \n",
       "3               24.03        6.76    0    1    0               0      2   \n",
       "4                4.68        8.50    0    1    0               1      3   \n",
       "\n",
       "   citizenthip  \n",
       "0            0  \n",
       "1            6  \n",
       "2            2  \n",
       "3            2  \n",
       "4            5  "
      ]
     },
     "execution_count": 95,
     "metadata": {},
     "output_type": "execute_result"
    }
   ],
   "source": [
    "df.head()"
   ]
  },
  {
   "cell_type": "code",
   "execution_count": 96,
   "metadata": {},
   "outputs": [
    {
     "data": {
      "text/html": [
       "<div>\n",
       "<style scoped>\n",
       "    .dataframe tbody tr th:only-of-type {\n",
       "        vertical-align: middle;\n",
       "    }\n",
       "\n",
       "    .dataframe tbody tr th {\n",
       "        vertical-align: top;\n",
       "    }\n",
       "\n",
       "    .dataframe thead th {\n",
       "        text-align: right;\n",
       "    }\n",
       "</style>\n",
       "<table border=\"1\" class=\"dataframe\">\n",
       "  <thead>\n",
       "    <tr style=\"text-align: right;\">\n",
       "      <th></th>\n",
       "      <th>total_utility_bill</th>\n",
       "      <th>commission</th>\n",
       "      <th>sex</th>\n",
       "      <th>age</th>\n",
       "      <th>car</th>\n",
       "      <th>marital_status</th>\n",
       "      <th>child</th>\n",
       "      <th>citizenthip</th>\n",
       "    </tr>\n",
       "  </thead>\n",
       "  <tbody>\n",
       "    <tr>\n",
       "      <th>507</th>\n",
       "      <td>43.00</td>\n",
       "      <td>9.32</td>\n",
       "      <td>1</td>\n",
       "      <td>0</td>\n",
       "      <td>1</td>\n",
       "      <td>1</td>\n",
       "      <td>3</td>\n",
       "      <td>4</td>\n",
       "    </tr>\n",
       "    <tr>\n",
       "      <th>508</th>\n",
       "      <td>10.81</td>\n",
       "      <td>4.87</td>\n",
       "      <td>1</td>\n",
       "      <td>0</td>\n",
       "      <td>0</td>\n",
       "      <td>0</td>\n",
       "      <td>0</td>\n",
       "      <td>3</td>\n",
       "    </tr>\n",
       "    <tr>\n",
       "      <th>509</th>\n",
       "      <td>21.75</td>\n",
       "      <td>7.68</td>\n",
       "      <td>1</td>\n",
       "      <td>1</td>\n",
       "      <td>1</td>\n",
       "      <td>0</td>\n",
       "      <td>3</td>\n",
       "      <td>6</td>\n",
       "    </tr>\n",
       "    <tr>\n",
       "      <th>510</th>\n",
       "      <td>22.87</td>\n",
       "      <td>4.82</td>\n",
       "      <td>1</td>\n",
       "      <td>1</td>\n",
       "      <td>1</td>\n",
       "      <td>0</td>\n",
       "      <td>3</td>\n",
       "      <td>3</td>\n",
       "    </tr>\n",
       "    <tr>\n",
       "      <th>511</th>\n",
       "      <td>12.99</td>\n",
       "      <td>1.73</td>\n",
       "      <td>0</td>\n",
       "      <td>1</td>\n",
       "      <td>1</td>\n",
       "      <td>0</td>\n",
       "      <td>1</td>\n",
       "      <td>2</td>\n",
       "    </tr>\n",
       "  </tbody>\n",
       "</table>\n",
       "</div>"
      ],
      "text/plain": [
       "     total_utility_bill  commission  sex  age  car  marital_status  child  \\\n",
       "507               43.00        9.32    1    0    1               1      3   \n",
       "508               10.81        4.87    1    0    0               0      0   \n",
       "509               21.75        7.68    1    1    1               0      3   \n",
       "510               22.87        4.82    1    1    1               0      3   \n",
       "511               12.99        1.73    0    1    1               0      1   \n",
       "\n",
       "     citizenthip  \n",
       "507            4  \n",
       "508            3  \n",
       "509            6  \n",
       "510            3  \n",
       "511            2  "
      ]
     },
     "execution_count": 96,
     "metadata": {},
     "output_type": "execute_result"
    }
   ],
   "source": [
    "df.tail()"
   ]
  },
  {
   "cell_type": "code",
   "execution_count": 97,
   "metadata": {},
   "outputs": [
    {
     "name": "stdout",
     "output_type": "stream",
     "text": [
      "citizenthip\n",
      "[0 6 2 5 1 3 4]\n"
     ]
    }
   ],
   "source": [
    "print(\"citizenthip\")\n",
    "print(df['citizenthip'].unique())"
   ]
  },
  {
   "cell_type": "code",
   "execution_count": 98,
   "metadata": {},
   "outputs": [
    {
     "name": "stdout",
     "output_type": "stream",
     "text": [
      "<class 'pandas.core.frame.DataFrame'>\n",
      "RangeIndex: 512 entries, 0 to 511\n",
      "Data columns (total 8 columns):\n",
      " #   Column              Non-Null Count  Dtype  \n",
      "---  ------              --------------  -----  \n",
      " 0   total_utility_bill  512 non-null    float64\n",
      " 1   commission          512 non-null    float64\n",
      " 2   sex                 512 non-null    int64  \n",
      " 3   age                 512 non-null    int64  \n",
      " 4   car                 512 non-null    int64  \n",
      " 5   marital_status      512 non-null    int64  \n",
      " 6   child               512 non-null    int64  \n",
      " 7   citizenthip         512 non-null    int64  \n",
      "dtypes: float64(2), int64(6)\n",
      "memory usage: 32.1 KB\n"
     ]
    }
   ],
   "source": [
    "df.info()"
   ]
  },
  {
   "cell_type": "code",
   "execution_count": 99,
   "metadata": {},
   "outputs": [
    {
     "data": {
      "text/html": [
       "<div>\n",
       "<style scoped>\n",
       "    .dataframe tbody tr th:only-of-type {\n",
       "        vertical-align: middle;\n",
       "    }\n",
       "\n",
       "    .dataframe tbody tr th {\n",
       "        vertical-align: top;\n",
       "    }\n",
       "\n",
       "    .dataframe thead th {\n",
       "        text-align: right;\n",
       "    }\n",
       "</style>\n",
       "<table border=\"1\" class=\"dataframe\">\n",
       "  <thead>\n",
       "    <tr style=\"text-align: right;\">\n",
       "      <th></th>\n",
       "      <th>total_utility_bill</th>\n",
       "      <th>commission</th>\n",
       "      <th>sex</th>\n",
       "      <th>age</th>\n",
       "      <th>car</th>\n",
       "      <th>marital_status</th>\n",
       "      <th>child</th>\n",
       "      <th>citizenthip</th>\n",
       "    </tr>\n",
       "  </thead>\n",
       "  <tbody>\n",
       "    <tr>\n",
       "      <th>count</th>\n",
       "      <td>512.000000</td>\n",
       "      <td>512.000000</td>\n",
       "      <td>512.000000</td>\n",
       "      <td>512.000000</td>\n",
       "      <td>512.000000</td>\n",
       "      <td>512.000000</td>\n",
       "      <td>512.000000</td>\n",
       "      <td>512.000000</td>\n",
       "    </tr>\n",
       "    <tr>\n",
       "      <th>mean</th>\n",
       "      <td>26.227461</td>\n",
       "      <td>5.561426</td>\n",
       "      <td>0.507812</td>\n",
       "      <td>0.480469</td>\n",
       "      <td>0.478516</td>\n",
       "      <td>0.462891</td>\n",
       "      <td>1.494141</td>\n",
       "      <td>3.007812</td>\n",
       "    </tr>\n",
       "    <tr>\n",
       "      <th>std</th>\n",
       "      <td>14.290343</td>\n",
       "      <td>2.652932</td>\n",
       "      <td>0.500428</td>\n",
       "      <td>0.500107</td>\n",
       "      <td>0.500027</td>\n",
       "      <td>0.499109</td>\n",
       "      <td>1.145042</td>\n",
       "      <td>1.988208</td>\n",
       "    </tr>\n",
       "    <tr>\n",
       "      <th>min</th>\n",
       "      <td>1.040000</td>\n",
       "      <td>1.050000</td>\n",
       "      <td>0.000000</td>\n",
       "      <td>0.000000</td>\n",
       "      <td>0.000000</td>\n",
       "      <td>0.000000</td>\n",
       "      <td>0.000000</td>\n",
       "      <td>0.000000</td>\n",
       "    </tr>\n",
       "    <tr>\n",
       "      <th>25%</th>\n",
       "      <td>14.652500</td>\n",
       "      <td>3.297500</td>\n",
       "      <td>0.000000</td>\n",
       "      <td>0.000000</td>\n",
       "      <td>0.000000</td>\n",
       "      <td>0.000000</td>\n",
       "      <td>0.000000</td>\n",
       "      <td>1.000000</td>\n",
       "    </tr>\n",
       "    <tr>\n",
       "      <th>50%</th>\n",
       "      <td>26.780000</td>\n",
       "      <td>5.465000</td>\n",
       "      <td>1.000000</td>\n",
       "      <td>0.000000</td>\n",
       "      <td>0.000000</td>\n",
       "      <td>0.000000</td>\n",
       "      <td>1.000000</td>\n",
       "      <td>3.000000</td>\n",
       "    </tr>\n",
       "    <tr>\n",
       "      <th>75%</th>\n",
       "      <td>38.952500</td>\n",
       "      <td>8.035000</td>\n",
       "      <td>1.000000</td>\n",
       "      <td>1.000000</td>\n",
       "      <td>1.000000</td>\n",
       "      <td>1.000000</td>\n",
       "      <td>3.000000</td>\n",
       "      <td>5.000000</td>\n",
       "    </tr>\n",
       "    <tr>\n",
       "      <th>max</th>\n",
       "      <td>50.000000</td>\n",
       "      <td>9.990000</td>\n",
       "      <td>1.000000</td>\n",
       "      <td>1.000000</td>\n",
       "      <td>1.000000</td>\n",
       "      <td>1.000000</td>\n",
       "      <td>3.000000</td>\n",
       "      <td>6.000000</td>\n",
       "    </tr>\n",
       "  </tbody>\n",
       "</table>\n",
       "</div>"
      ],
      "text/plain": [
       "       total_utility_bill  commission         sex         age         car  \\\n",
       "count          512.000000  512.000000  512.000000  512.000000  512.000000   \n",
       "mean            26.227461    5.561426    0.507812    0.480469    0.478516   \n",
       "std             14.290343    2.652932    0.500428    0.500107    0.500027   \n",
       "min              1.040000    1.050000    0.000000    0.000000    0.000000   \n",
       "25%             14.652500    3.297500    0.000000    0.000000    0.000000   \n",
       "50%             26.780000    5.465000    1.000000    0.000000    0.000000   \n",
       "75%             38.952500    8.035000    1.000000    1.000000    1.000000   \n",
       "max             50.000000    9.990000    1.000000    1.000000    1.000000   \n",
       "\n",
       "       marital_status       child  citizenthip  \n",
       "count      512.000000  512.000000   512.000000  \n",
       "mean         0.462891    1.494141     3.007812  \n",
       "std          0.499109    1.145042     1.988208  \n",
       "min          0.000000    0.000000     0.000000  \n",
       "25%          0.000000    0.000000     1.000000  \n",
       "50%          0.000000    1.000000     3.000000  \n",
       "75%          1.000000    3.000000     5.000000  \n",
       "max          1.000000    3.000000     6.000000  "
      ]
     },
     "execution_count": 99,
     "metadata": {},
     "output_type": "execute_result"
    }
   ],
   "source": [
    "df.describe()"
   ]
  },
  {
   "cell_type": "code",
   "execution_count": 100,
   "metadata": {},
   "outputs": [
    {
     "name": "stderr",
     "output_type": "stream",
     "text": [
      "/Users/margosha/opt/anaconda3/lib/python3.8/site-packages/seaborn/axisgrid.py:316: UserWarning: The `size` parameter has been renamed to `height`; please update your code.\n",
      "  warnings.warn(msg, UserWarning)\n"
     ]
    },
    {
     "data": {
      "image/png": "[encoded data removed]",
      "text/plain": [
       "<Figure size 492.125x432 with 1 Axes>"
      ]
     },
     "metadata": {
      "needs_background": "light"
     },
     "output_type": "display_data"
    }
   ],
   "source": [
    "sns.FacetGrid(df, hue=\"citizenthip\", size=6) \\\n",
    "   .map(plt.scatter, \"total_utility_bill\", \"commission\") \\\n",
    "   .add_legend()\n",
    "\n",
    "plt.show()"
   ]
  },
  {
   "cell_type": "code",
   "execution_count": 101,
   "metadata": {},
   "outputs": [
    {
     "name": "stdout",
     "output_type": "stream",
     "text": [
      "Features: ['commission', 'sex', 'age', 'car', 'marital_status', 'child']\n",
      "Target: citizenthip\n",
      "(512,)\n",
      "(512, 6)\n"
     ]
    }
   ],
   "source": [
    "features = list(df.columns[1:7])            \t\n",
    "target = df.columns[7]                     \n",
    "\n",
    "print('Features:',features)\n",
    "print('Target:',target)\n",
    "\n",
    "# store feature matrix in \"X\"\n",
    "X = df.iloc[:,1:7]                         \n",
    "\n",
    "# store response vector in \"y\"\n",
    "y = df.iloc[:,7]                           \n",
    "\n",
    "\n",
    "print(y.shape)\n",
    "print(X.shape)"
   ]
  },
  {
   "cell_type": "code",
   "execution_count": 102,
   "metadata": {},
   "outputs": [
    {
     "name": "stdout",
     "output_type": "stream",
     "text": [
      "Classes: [0 1 2 3 4 5 6]\n",
      "Response variable after encoding: [0 6 2 2 5 5 2 6 5 0 6 2 2 1 3 4 0 0 4 1 5 3 6 5 6 4 5 1 1 3 0 5 5 2 0 6 0\n",
      " 5 0 4 0 4 0 6 1 6 1 6 6 6 3 2 2 4 1 4 6 3 6 0 0 3 4 2 1 3 4 1 1 3 4 0 5 0\n",
      " 3 3 4 3 0 3 4 4 2 4 1 2 5 0 1 3 3 6 6 3 4 2 2 5 3 5 4 6 5 0 2 4 1 6 4 6 3\n",
      " 5 1 6 0 0 5 0 1 0 3 5 1 1 5 6 3 4 4 3 5 2 6 1 3 0 4 3 5 3 0 2 2 4 5 1 0 3\n",
      " 4 6 5 2 1 0 6 0 1 5 4 4 0 5 2 4 1 1 0 0 1 3 1 1 2 6 2 1 5 3 0 6 4 3 6 6 5\n",
      " 4 2 6 2 2 5 6 3 3 2 0 0 1 1 6 1 2 1 4 6 4 6 5 3 1 1 0 6 4 5 3 3 1 3 6 2 4\n",
      " 4 3 6 4 2 0 6 1 5 5 6 3 2 4 5 3 5 6 1 3 3 1 3 0 6 1 4 2 6 2 3 5 1 3 0 6 2\n",
      " 5 0 1 6 1 2 1 0 2 1 5 1 3 0 6 0 2 6 0 5 6 2 4 3 0 0 0 5 1 5 6 2 6 0 3 3 1\n",
      " 3 0 6 6 6 5 4 5 4 4 6 6 6 6 1 4 2 2 5 6 1 5 1 1 4 4 2 2 2 5 5 5 6 3 1 1 1\n",
      " 0 3 2 5 1 0 5 1 1 1 2 6 3 5 6 5 0 1 6 5 2 0 4 2 2 3 0 0 0 4 5 4 2 4 3 4 4\n",
      " 3 4 3 0 1 4 6 2 4 1 2 3 3 5 3 3 5 3 5 4 5 1 5 5 1 3 0 6 2 3 4 1 4 6 3 4 1\n",
      " 0 2 2 1 5 0 0 5 3 1 0 0 4 2 4 4 6 1 0 2 1 4 3 2 4 1 6 4 3 4 4 2 6 2 5 0 5\n",
      " 4 3 2 2 5 1 6 5 3 4 6 4 3 6 1 2 1 0 6 2 2 1 3 2 4 0 5 3 0 4 6 5 4 0 0 4 3\n",
      " 6 2 6 2 2 1 4 1 4 4 2 5 2 5 2 2 3 4 3 3 6 0 0 3 5 0 4 3 6 3 2]\n"
     ]
    },
    {
     "data": {
      "text/html": [
       "<div>\n",
       "<style scoped>\n",
       "    .dataframe tbody tr th:only-of-type {\n",
       "        vertical-align: middle;\n",
       "    }\n",
       "\n",
       "    .dataframe tbody tr th {\n",
       "        vertical-align: top;\n",
       "    }\n",
       "\n",
       "    .dataframe thead th {\n",
       "        text-align: right;\n",
       "    }\n",
       "</style>\n",
       "<table border=\"1\" class=\"dataframe\">\n",
       "  <thead>\n",
       "    <tr style=\"text-align: right;\">\n",
       "      <th></th>\n",
       "      <th>total_utility_bill</th>\n",
       "      <th>commission</th>\n",
       "      <th>sex</th>\n",
       "      <th>age</th>\n",
       "      <th>car</th>\n",
       "      <th>marital_status</th>\n",
       "      <th>child</th>\n",
       "      <th>citizenthip</th>\n",
       "      <th>Encodedcitizenthip</th>\n",
       "    </tr>\n",
       "  </thead>\n",
       "  <tbody>\n",
       "    <tr>\n",
       "      <th>502</th>\n",
       "      <td>20.33</td>\n",
       "      <td>3.30</td>\n",
       "      <td>0</td>\n",
       "      <td>0</td>\n",
       "      <td>0</td>\n",
       "      <td>0</td>\n",
       "      <td>1</td>\n",
       "      <td>0</td>\n",
       "      <td>0</td>\n",
       "    </tr>\n",
       "    <tr>\n",
       "      <th>503</th>\n",
       "      <td>46.08</td>\n",
       "      <td>2.19</td>\n",
       "      <td>1</td>\n",
       "      <td>0</td>\n",
       "      <td>1</td>\n",
       "      <td>1</td>\n",
       "      <td>1</td>\n",
       "      <td>0</td>\n",
       "      <td>0</td>\n",
       "    </tr>\n",
       "    <tr>\n",
       "      <th>504</th>\n",
       "      <td>48.64</td>\n",
       "      <td>2.17</td>\n",
       "      <td>0</td>\n",
       "      <td>1</td>\n",
       "      <td>1</td>\n",
       "      <td>0</td>\n",
       "      <td>2</td>\n",
       "      <td>3</td>\n",
       "      <td>3</td>\n",
       "    </tr>\n",
       "    <tr>\n",
       "      <th>505</th>\n",
       "      <td>47.15</td>\n",
       "      <td>8.76</td>\n",
       "      <td>0</td>\n",
       "      <td>0</td>\n",
       "      <td>1</td>\n",
       "      <td>1</td>\n",
       "      <td>3</td>\n",
       "      <td>5</td>\n",
       "      <td>5</td>\n",
       "    </tr>\n",
       "    <tr>\n",
       "      <th>506</th>\n",
       "      <td>42.22</td>\n",
       "      <td>5.50</td>\n",
       "      <td>0</td>\n",
       "      <td>1</td>\n",
       "      <td>1</td>\n",
       "      <td>0</td>\n",
       "      <td>0</td>\n",
       "      <td>0</td>\n",
       "      <td>0</td>\n",
       "    </tr>\n",
       "    <tr>\n",
       "      <th>507</th>\n",
       "      <td>43.00</td>\n",
       "      <td>9.32</td>\n",
       "      <td>1</td>\n",
       "      <td>0</td>\n",
       "      <td>1</td>\n",
       "      <td>1</td>\n",
       "      <td>3</td>\n",
       "      <td>4</td>\n",
       "      <td>4</td>\n",
       "    </tr>\n",
       "    <tr>\n",
       "      <th>508</th>\n",
       "      <td>10.81</td>\n",
       "      <td>4.87</td>\n",
       "      <td>1</td>\n",
       "      <td>0</td>\n",
       "      <td>0</td>\n",
       "      <td>0</td>\n",
       "      <td>0</td>\n",
       "      <td>3</td>\n",
       "      <td>3</td>\n",
       "    </tr>\n",
       "    <tr>\n",
       "      <th>509</th>\n",
       "      <td>21.75</td>\n",
       "      <td>7.68</td>\n",
       "      <td>1</td>\n",
       "      <td>1</td>\n",
       "      <td>1</td>\n",
       "      <td>0</td>\n",
       "      <td>3</td>\n",
       "      <td>6</td>\n",
       "      <td>6</td>\n",
       "    </tr>\n",
       "    <tr>\n",
       "      <th>510</th>\n",
       "      <td>22.87</td>\n",
       "      <td>4.82</td>\n",
       "      <td>1</td>\n",
       "      <td>1</td>\n",
       "      <td>1</td>\n",
       "      <td>0</td>\n",
       "      <td>3</td>\n",
       "      <td>3</td>\n",
       "      <td>3</td>\n",
       "    </tr>\n",
       "    <tr>\n",
       "      <th>511</th>\n",
       "      <td>12.99</td>\n",
       "      <td>1.73</td>\n",
       "      <td>0</td>\n",
       "      <td>1</td>\n",
       "      <td>1</td>\n",
       "      <td>0</td>\n",
       "      <td>1</td>\n",
       "      <td>2</td>\n",
       "      <td>2</td>\n",
       "    </tr>\n",
       "  </tbody>\n",
       "</table>\n",
       "</div>"
      ],
      "text/plain": [
       "     total_utility_bill  commission  sex  age  car  marital_status  child  \\\n",
       "502               20.33        3.30    0    0    0               0      1   \n",
       "503               46.08        2.19    1    0    1               1      1   \n",
       "504               48.64        2.17    0    1    1               0      2   \n",
       "505               47.15        8.76    0    0    1               1      3   \n",
       "506               42.22        5.50    0    1    1               0      0   \n",
       "507               43.00        9.32    1    0    1               1      3   \n",
       "508               10.81        4.87    1    0    0               0      0   \n",
       "509               21.75        7.68    1    1    1               0      3   \n",
       "510               22.87        4.82    1    1    1               0      3   \n",
       "511               12.99        1.73    0    1    1               0      1   \n",
       "\n",
       "     citizenthip  Encodedcitizenthip  \n",
       "502            0                   0  \n",
       "503            0                   0  \n",
       "504            3                   3  \n",
       "505            5                   5  \n",
       "506            0                   0  \n",
       "507            4                   4  \n",
       "508            3                   3  \n",
       "509            6                   6  \n",
       "510            3                   3  \n",
       "511            2                   2  "
      ]
     },
     "execution_count": 102,
     "metadata": {},
     "output_type": "execute_result"
    }
   ],
   "source": [
    "from sklearn import preprocessing\n",
    "le = preprocessing.LabelEncoder()\n",
    "le.fit(y)\n",
    "y=le.transform(y)\n",
    "\n",
    "\n",
    "df['Encodedcitizenthip'] = y\n",
    "\n",
    "print('Classes:',le.classes_)\n",
    "print('Response variable after encoding:',y)\n",
    "df.tail(10)"
   ]
  },
  {
   "cell_type": "code",
   "execution_count": 103,
   "metadata": {},
   "outputs": [
    {
     "data": {
      "text/plain": [
       "KNeighborsClassifier(n_neighbors=1)"
      ]
     },
     "execution_count": 103,
     "metadata": {},
     "output_type": "execute_result"
    }
   ],
   "source": [
    "from sklearn.neighbors import KNeighborsClassifier\n",
    "knn = KNeighborsClassifier(n_neighbors=1)\n",
    "knn.fit(X, y)"
   ]
  },
  {
   "cell_type": "code",
   "execution_count": 104,
   "metadata": {},
   "outputs": [
    {
     "name": "stdout",
     "output_type": "stream",
     "text": [
      "prediction value: [3]\n",
      "Predicted Class 2\n"
     ]
    }
   ],
   "source": [
    "value = knn.predict([[3, 5, 6, 4, 2, 1]])\n",
    "print('prediction value:',value)\n",
    "\n",
    "print('Predicted Class', df.loc[df['Encodedcitizenthip'] == 2, 'citizenthip'].values[0])"
   ]
  },
  {
   "cell_type": "code",
   "execution_count": 105,
   "metadata": {},
   "outputs": [
    {
     "data": {
      "text/plain": [
       "array([3, 5])"
      ]
     },
     "execution_count": 105,
     "metadata": {},
     "output_type": "execute_result"
    }
   ],
   "source": [
    "X_new = [[3, 5, 6, 4, 2, 1], [6, 5, 4, 3, 2, 1]]                       \n",
    "knn.predict(X_new)"
   ]
  },
  {
   "cell_type": "code",
   "execution_count": 106,
   "metadata": {},
   "outputs": [
    {
     "name": "stdout",
     "output_type": "stream",
     "text": [
      "[1 0]\n"
     ]
    }
   ],
   "source": [
    "knn = KNeighborsClassifier(n_neighbors=5)\n",
    "knn.fit(X, y)\n",
    "\n",
    "print(knn.predict(X_new))\n",
    "\n",
    "kypred = knn.predict(X)"
   ]
  },
  {
   "cell_type": "code",
   "execution_count": 107,
   "metadata": {},
   "outputs": [
    {
     "data": {
      "image/png": "[encoded data removed]",
      "text/plain": [
       "<Figure size 432x288 with 1 Axes>"
      ]
     },
     "metadata": {
      "needs_background": "light"
     },
     "output_type": "display_data"
    }
   ],
   "source": [
    "from sklearn import metrics\n",
    "v=[]\n",
    "\n",
    "k_range = list(range(1, 50))\n",
    "for i in k_range:\n",
    "    knn = KNeighborsClassifier(n_neighbors=i)\n",
    "    # fit the model with data\n",
    "    knn.fit(X, y)\n",
    "    k_pred = knn.predict(X)\n",
    "    v.append( metrics.accuracy_score(y, k_pred))\n",
    "\n",
    "\n",
    "import matplotlib.pyplot as plt\n",
    "plt.plot(k_range,v,c='Green',)\n",
    "plt.show()"
   ]
  },
  {
   "cell_type": "code",
   "execution_count": 108,
   "metadata": {},
   "outputs": [
    {
     "name": "stdout",
     "output_type": "stream",
     "text": [
      "0.32421875\n"
     ]
    }
   ],
   "source": [
    "from sklearn import metrics\n",
    "print(metrics.accuracy_score(y, kypred))"
   ]
  },
  {
   "cell_type": "code",
   "execution_count": 109,
   "metadata": {},
   "outputs": [],
   "source": [
    "from sklearn.model_selection import train_test_split\n",
    "X_train, X_test, y_train, y_test = train_test_split(X, y, test_size=0.4, random_state=4)"
   ]
  },
  {
   "cell_type": "code",
   "execution_count": 110,
   "metadata": {},
   "outputs": [
    {
     "name": "stdout",
     "output_type": "stream",
     "text": [
      "(307, 6)\n",
      "(307,)\n"
     ]
    }
   ],
   "source": [
    "print(X_train.shape)\n",
    "print(y_train.shape)"
   ]
  },
  {
   "cell_type": "code",
   "execution_count": 111,
   "metadata": {},
   "outputs": [
    {
     "data": {
      "text/plain": [
       "0.1073170731707317"
      ]
     },
     "execution_count": 111,
     "metadata": {},
     "output_type": "execute_result"
    }
   ],
   "source": [
    "knn = KNeighborsClassifier(n_neighbors=12)\n",
    "# fit the model with data\n",
    "knn.fit(X_train, y_train)\n",
    "k_pred = knn.predict(X_test)\n",
    "\n",
    "metrics.accuracy_score(y_test, k_pred)"
   ]
  },
  {
   "cell_type": "code",
   "execution_count": 112,
   "metadata": {},
   "outputs": [
    {
     "data": {
      "image/png": "[encoded data removed]",
      "text/plain": [
       "<Figure size 432x288 with 1 Axes>"
      ]
     },
     "metadata": {
      "needs_background": "light"
     },
     "output_type": "display_data"
    }
   ],
   "source": [
    "from sklearn import metrics\n",
    "v=[]\n",
    "\n",
    "\n",
    "k_range = list(range(1, 50))\n",
    "for i in k_range:\n",
    "    knn = KNeighborsClassifier(n_neighbors=i)\n",
    "    # fit the model with data\n",
    "    knn.fit(X_train, y_train)\n",
    "    k_pred = knn.predict(X_test)\n",
    "    v.append( metrics.accuracy_score(y_test, k_pred))\n",
    "\n",
    "\n",
    "\n",
    "import matplotlib.pyplot as plt\n",
    "plt.plot(k_range,v)\n",
    "\n",
    "plt.show()"
   ]
  }
 ],
 "metadata": {
  "interpreter": {
   "hash": "b1a04cf6a6da026d50e03458721b6e0e60b7e285436bb8d532d23ff008b619c3"
  },
  "kernelspec": {
   "display_name": "Python 3.8.8 64-bit ('base': conda)",
   "name": "python3"
  },
  "language_info": {
   "codemirror_mode": {
    "name": "ipython",
    "version": 3
   },
   "file_extension": ".py",
   "mimetype": "text/x-python",
   "name": "python",
   "nbconvert_exporter": "python",
   "pygments_lexer": "ipython3",
   "version": "3.8.8"
  },
  "orig_nbformat": 4
 },
 "nbformat": 4,
 "nbformat_minor": 2
}
