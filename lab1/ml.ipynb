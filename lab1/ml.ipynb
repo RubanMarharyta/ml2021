{
 "cells": [
  {
   "cell_type": "code",
   "execution_count": null,
   "source": [
    "import numpy as np\n",
    "\n",
    "print(\"CRUD numbers\")\n",
    "x = np.random.randint(0, 10)\n",
    "y = np.random.randint(0, 10)\n",
    "print(\"x = \", x)\n",
    "print(\"y = \", y)\n",
    "print(\"x+y = \", x+y)\n",
    "print(\"x-y = \", x-y)\n",
    "print(\"x*y = \", x*y)\n",
    "print(\"x/y = \", x/y)\n",
    "\n",
    "print()\n",
    "print(\"CRUD array\")\n",
    "print(\"Creation: \")\n",
    "array1 = np.arange(10,50,4)"
   ],
   "outputs": [],
   "metadata": {}
  }
 ],
 "metadata": {
  "orig_nbformat": 4,
  "language_info": {
   "name": "python"
  }
 },
 "nbformat": 4,
 "nbformat_minor": 2
}
