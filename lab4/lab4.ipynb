{
 "cells": [
  {
   "cell_type": "markdown",
   "metadata": {},
   "source": [
    "# Лабораторна робота 4\n",
    "### Студента групи МІТ-31 (підгрупа 2)\n",
    "### Хоміка Богдана Сергійовича\n",
    "\n",
    "## Завдання\n",
    "1. Здійснити загальні операції з використанням TensorFlow (створити набір даних (розмір за власним рішенням) у вигляді тензорів, провести CRUD операції над даними (скаляр, вектор, матриця)).\n",
    "2. Згенерувати набір даних для регресії та класифікації з використанням TensorFlow\n",
    "3. Здійснити графічний аналіз наборів даних за допомогою Matplotlib\n",
    "4. Відповіді оформити .ipynb документом\n",
    "5. Викласти у зазначений репозіторій GitHub в окремій папці з назвою Lab4 де має бути .ipynb файл та необхідні файли з даними\n",
    "\n",
    "### Пункт 4 я виконував в усіх пунктах почергово, його не відзначав"
   ]
  },
  {
   "cell_type": "code",
   "execution_count": 1,
   "metadata": {},
   "outputs": [
    {
     "name": "stdout",
     "output_type": "stream",
     "text": [
      "Note: you may need to restart the kernel to use updated packages.Collecting tensorflow\n",
      "\n",
      "  Downloading tensorflow-2.6.0-cp38-cp38-win_amd64.whl (423.2 MB)\n",
      "Collecting numpy~=1.19.2\n",
      "  Downloading numpy-1.19.5-cp38-cp38-win_amd64.whl (13.3 MB)\n",
      "Requirement already satisfied: wheel~=0.35 in d:\\anaconda\\lib\\site-packages (from tensorflow) (0.36.2)\n",
      "Collecting keras-preprocessing~=1.1.2\n",
      "  Downloading Keras_Preprocessing-1.1.2-py2.py3-none-any.whl (42 kB)\n",
      "Collecting astunparse~=1.6.3\n",
      "  Downloading astunparse-1.6.3-py2.py3-none-any.whl (12 kB)\n",
      "Collecting protobuf>=3.9.2\n",
      "  Downloading protobuf-3.18.1-cp38-cp38-win_amd64.whl (912 kB)\n",
      "Collecting clang~=5.0\n",
      "  Downloading clang-5.0.tar.gz (30 kB)\n",
      "Collecting google-pasta~=0.2\n",
      "  Downloading google_pasta-0.2.0-py3-none-any.whl (57 kB)\n",
      "Collecting h5py~=3.1.0\n",
      "  Downloading h5py-3.1.0-cp38-cp38-win_amd64.whl (2.7 MB)\n",
      "Collecting keras~=2.6\n",
      "  Downloading keras-2.6.0-py2.py3-none-any.whl (1.3 MB)\n",
      "Collecting flatbuffers~=1.12.0\n",
      "  Downloading flatbuffers-1.12-py2.py3-none-any.whl (15 kB)\n",
      "Collecting absl-py~=0.10\n",
      "  Downloading absl_py-0.14.1-py3-none-any.whl (131 kB)\n",
      "Collecting grpcio<2.0,>=1.37.0\n",
      "  Downloading grpcio-1.41.0-cp38-cp38-win_amd64.whl (3.2 MB)\n",
      "Collecting tensorboard~=2.6\n",
      "  Downloading tensorboard-2.6.0-py3-none-any.whl (5.6 MB)\n",
      "Collecting opt-einsum~=3.3.0\n",
      "  Downloading opt_einsum-3.3.0-py3-none-any.whl (65 kB)\n",
      "Requirement already satisfied: six~=1.15.0 in d:\\anaconda\\lib\\site-packages (from tensorflow) (1.15.0)\n",
      "Collecting tensorflow-estimator~=2.6\n",
      "  Downloading tensorflow_estimator-2.6.0-py2.py3-none-any.whl (462 kB)\n",
      "Collecting gast==0.4.0\n",
      "  Downloading gast-0.4.0-py3-none-any.whl (9.8 kB)\n",
      "Collecting termcolor~=1.1.0\n",
      "  Downloading termcolor-1.1.0.tar.gz (3.9 kB)\n",
      "Requirement already satisfied: typing-extensions~=3.7.4 in d:\\anaconda\\lib\\site-packages (from tensorflow) (3.7.4.3)\n",
      "Requirement already satisfied: wrapt~=1.12.1 in d:\\anaconda\\lib\\site-packages (from tensorflow) (1.12.1)\n",
      "Collecting google-auth<2,>=1.6.3\n",
      "  Downloading google_auth-1.35.0-py2.py3-none-any.whl (152 kB)\n",
      "Requirement already satisfied: werkzeug>=0.11.15 in d:\\anaconda\\lib\\site-packages (from tensorboard~=2.6->tensorflow) (1.0.1)\n",
      "Collecting tensorboard-data-server<0.7.0,>=0.6.0\n",
      "  Downloading tensorboard_data_server-0.6.1-py3-none-any.whl (2.4 kB)\n",
      "Requirement already satisfied: requests<3,>=2.21.0 in d:\\anaconda\\lib\\site-packages (from tensorboard~=2.6->tensorflow) (2.25.1)\n",
      "Requirement already satisfied: setuptools>=41.0.0 in d:\\anaconda\\lib\\site-packages (from tensorboard~=2.6->tensorflow) (52.0.0.post20210125)\n",
      "Collecting google-auth-oauthlib<0.5,>=0.4.1\n",
      "  Downloading google_auth_oauthlib-0.4.6-py2.py3-none-any.whl (18 kB)\n",
      "Collecting tensorboard-plugin-wit>=1.6.0\n",
      "  Downloading tensorboard_plugin_wit-1.8.0-py3-none-any.whl (781 kB)\n",
      "Collecting markdown>=2.6.8\n",
      "  Downloading Markdown-3.3.4-py3-none-any.whl (97 kB)\n",
      "Collecting pyasn1-modules>=0.2.1\n",
      "  Downloading pyasn1_modules-0.2.8-py2.py3-none-any.whl (155 kB)\n",
      "Collecting cachetools<5.0,>=2.0.0\n",
      "  Downloading cachetools-4.2.4-py3-none-any.whl (10 kB)\n",
      "Collecting rsa<5,>=3.1.4\n",
      "  Downloading rsa-4.7.2-py3-none-any.whl (34 kB)\n",
      "Collecting requests-oauthlib>=0.7.0\n",
      "  Downloading requests_oauthlib-1.3.0-py2.py3-none-any.whl (23 kB)\n",
      "Collecting pyasn1<0.5.0,>=0.4.6\n",
      "  Downloading pyasn1-0.4.8-py2.py3-none-any.whl (77 kB)\n",
      "Requirement already satisfied: certifi>=2017.4.17 in d:\\anaconda\\lib\\site-packages (from requests<3,>=2.21.0->tensorboard~=2.6->tensorflow) (2020.12.5)\n",
      "Requirement already satisfied: urllib3<1.27,>=1.21.1 in d:\\anaconda\\lib\\site-packages (from requests<3,>=2.21.0->tensorboard~=2.6->tensorflow) (1.26.4)\n",
      "Requirement already satisfied: idna<3,>=2.5 in d:\\anaconda\\lib\\site-packages (from requests<3,>=2.21.0->tensorboard~=2.6->tensorflow) (2.10)\n",
      "Requirement already satisfied: chardet<5,>=3.0.2 in d:\\anaconda\\lib\\site-packages (from requests<3,>=2.21.0->tensorboard~=2.6->tensorflow) (4.0.0)\n",
      "Collecting oauthlib>=3.0.0\n",
      "  Downloading oauthlib-3.1.1-py2.py3-none-any.whl (146 kB)\n",
      "Building wheels for collected packages: clang, termcolor\n",
      "  Building wheel for clang (setup.py): started\n",
      "  Building wheel for clang (setup.py): finished with status 'done'\n",
      "  Created wheel for clang: filename=clang-5.0-py3-none-any.whl size=30702 sha256=8eee75f0f233e65fdcf593ba143d30c2351d95f6a16c806a9056a31040bec5bd\n",
      "  Stored in directory: c:\\users\\пк\\appdata\\local\\pip\\cache\\wheels\\f1\\60\\77\\22b9b5887bd47801796a856f47650d9789c74dc3161a26d608\n",
      "  Building wheel for termcolor (setup.py): started\n",
      "  Building wheel for termcolor (setup.py): finished with status 'done'\n",
      "  Created wheel for termcolor: filename=termcolor-1.1.0-py3-none-any.whl size=4829 sha256=f8a05cb400bfcb0c43f533a755431e6fd4551649ddeb54b07d32012d1d808fd3\n",
      "  Stored in directory: c:\\users\\пк\\appdata\\local\\pip\\cache\\wheels\\a0\\16\\9c\\5473df82468f958445479c59e784896fa24f4a5fc024b0f501\n",
      "Successfully built clang termcolor\n",
      "Installing collected packages: pyasn1, rsa, pyasn1-modules, oauthlib, cachetools, requests-oauthlib, google-auth, tensorboard-plugin-wit, tensorboard-data-server, protobuf, numpy, markdown, grpcio, google-auth-oauthlib, absl-py, termcolor, tensorflow-estimator, tensorboard, opt-einsum, keras-preprocessing, keras, h5py, google-pasta, gast, flatbuffers, clang, astunparse, tensorflow\n",
      "  Attempting uninstall: numpy\n",
      "    Found existing installation: numpy 1.20.1\n",
      "    Uninstalling numpy-1.20.1:\n",
      "      Successfully uninstalled numpy-1.20.1\n",
      "  Attempting uninstall: h5py\n",
      "    Found existing installation: h5py 2.10.0\n",
      "    Uninstalling h5py-2.10.0:\n",
      "      Successfully uninstalled h5py-2.10.0\n",
      "Successfully installed absl-py-0.14.1 astunparse-1.6.3 cachetools-4.2.4 clang-5.0 flatbuffers-1.12 gast-0.4.0 google-auth-1.35.0 google-auth-oauthlib-0.4.6 google-pasta-0.2.0 grpcio-1.41.0 h5py-3.1.0 keras-2.6.0 keras-preprocessing-1.1.2 markdown-3.3.4 numpy-1.19.5 oauthlib-3.1.1 opt-einsum-3.3.0 protobuf-3.18.1 pyasn1-0.4.8 pyasn1-modules-0.2.8 requests-oauthlib-1.3.0 rsa-4.7.2 tensorboard-2.6.0 tensorboard-data-server-0.6.1 tensorboard-plugin-wit-1.8.0 tensorflow-2.6.0 tensorflow-estimator-2.6.0 termcolor-1.1.0\n"
     ]
    }
   ],
   "source": [
    "%pip install tensorflow"
   ]
  },
  {
   "cell_type": "code",
   "execution_count": 2,
   "metadata": {},
   "outputs": [],
   "source": [
    "import pandas as pd\n",
    "import numpy as np\n",
    "import matplotlib.pyplot as plt\n",
    "import seaborn as sns\n",
    "from sklearn.datasets import make_regression\n",
    "import tensorflow as tf"
   ]
  },
  {
   "cell_type": "markdown",
   "metadata": {},
   "source": [
    "### Пункт 1"
   ]
  },
  {
   "cell_type": "code",
   "execution_count": 50,
   "metadata": {},
   "outputs": [
    {
     "name": "stdout",
     "output_type": "stream",
     "text": [
      "tf.Tensor(\n",
      "[[1 3]\n",
      " [4 6]\n",
      " [7 9]], shape=(3, 2), dtype=int32)\n",
      "[[ 1  9]\n",
      " [16 36]\n",
      " [49 81]]\n",
      "tf.Tensor(\n",
      "[[101 103]\n",
      " [104 106]\n",
      " [107 109]], shape=(3, 2), dtype=int32)\n",
      "tf.Tensor([[104 106]], shape=(1, 2), dtype=int32)\n"
     ]
    }
   ],
   "source": [
    "tf1 = tf.constant([[1, 2, 3], [4, 5, 6], [7, 8, 9]])\n",
    "print(tf1)\n",
    "print(np.square(tf1))\n",
    "# перетворюєм в Numpy об'єкт\n",
    "tf1 = tf1 + 100\n",
    "print(tf1)\n",
    "# оновлюєм\n",
    "tf1_new = tf.gather(tf1, [1])#лише другий рядочок\n",
    "print(tf1_new)"
   ]
  },
  {
   "cell_type": "code",
   "execution_count": 51,
   "metadata": {},
   "outputs": [
    {
     "data": {
      "text/plain": [
       "<tf.Tensor: shape=(), dtype=int32, numpy=9>"
      ]
     },
     "execution_count": 51,
     "metadata": {},
     "output_type": "execute_result"
    }
   ],
   "source": [
    "scalar = tf.constant(9)\n",
    "scalar"
   ]
  },
  {
   "cell_type": "code",
   "execution_count": 52,
   "metadata": {},
   "outputs": [
    {
     "data": {
      "text/plain": [
       "0"
      ]
     },
     "execution_count": 52,
     "metadata": {},
     "output_type": "execute_result"
    }
   ],
   "source": [
    "scalar.ndim"
   ]
  },
  {
   "cell_type": "code",
   "execution_count": 57,
   "metadata": {},
   "outputs": [
    {
     "data": {
      "text/plain": [
       "<tf.Tensor: shape=(3,), dtype=int32, numpy=array([18, 12, 15])>"
      ]
     },
     "execution_count": 57,
     "metadata": {},
     "output_type": "execute_result"
    }
   ],
   "source": [
    "vector = tf.constant([18, 12, 15])\n",
    "vector"
   ]
  },
  {
   "cell_type": "code",
   "execution_count": 54,
   "metadata": {},
   "outputs": [
    {
     "data": {
      "text/plain": [
       "1"
      ]
     },
     "execution_count": 54,
     "metadata": {},
     "output_type": "execute_result"
    }
   ],
   "source": [
    "vector.ndim"
   ]
  },
  {
   "cell_type": "code",
   "execution_count": 59,
   "metadata": {},
   "outputs": [
    {
     "data": {
      "text/plain": [
       "<tf.Tensor: shape=(3, 3), dtype=int32, numpy=\n",
       "array([[1, 2, 3],\n",
       "       [4, 5, 6],\n",
       "       [7, 8, 9]])>"
      ]
     },
     "execution_count": 59,
     "metadata": {},
     "output_type": "execute_result"
    }
   ],
   "source": [
    "mat1 = tf.constant([[1, 2, 3], [4, 5, 6], [7, 8, 9]])\n",
    "mat1"
   ]
  },
  {
   "cell_type": "code",
   "execution_count": 60,
   "metadata": {},
   "outputs": [
    {
     "data": {
      "text/plain": [
       "2"
      ]
     },
     "execution_count": 60,
     "metadata": {},
     "output_type": "execute_result"
    }
   ],
   "source": [
    "mat1.ndim"
   ]
  },
  {
   "cell_type": "code",
   "execution_count": 62,
   "metadata": {},
   "outputs": [
    {
     "data": {
      "text/plain": [
       "<tf.Tensor: shape=(3, 3), dtype=float16, numpy=\n",
       "array([[1., 2., 3.],\n",
       "       [4., 5., 6.],\n",
       "       [7., 8., 9.]], dtype=float16)>"
      ]
     },
     "execution_count": 62,
     "metadata": {},
     "output_type": "execute_result"
    }
   ],
   "source": [
    "mat2 = tf.constant([[1., 2., 3.],\n",
    "                    [4., 5., 6.],\n",
    "                    [7., 8., 9.]], dtype=tf.float16)\n",
    "\n",
    "mat2"
   ]
  },
  {
   "cell_type": "code",
   "execution_count": 63,
   "metadata": {},
   "outputs": [
    {
     "data": {
      "text/plain": [
       "2"
      ]
     },
     "execution_count": 63,
     "metadata": {},
     "output_type": "execute_result"
    }
   ],
   "source": [
    "mat2.ndim"
   ]
  },
  {
   "cell_type": "code",
   "execution_count": 64,
   "metadata": {},
   "outputs": [
    {
     "data": {
      "text/plain": [
       "<tf.Tensor: shape=(3, 2, 3), dtype=int32, numpy=\n",
       "array([[[ 1,  2,  3],\n",
       "        [ 4,  5,  6]],\n",
       "\n",
       "       [[ 7,  8,  9],\n",
       "        [10, 11, 12]],\n",
       "\n",
       "       [[13, 14, 15],\n",
       "        [16, 17, 18]]])>"
      ]
     },
     "execution_count": 64,
     "metadata": {},
     "output_type": "execute_result"
    }
   ],
   "source": [
    "tensor = tf.constant([[[1, 2, 3,],\n",
    "                       [4, 5, 6]],\n",
    "                      [[7, 8, 9],\n",
    "                       [10, 11, 12]],\n",
    "                      [[13, 14, 15],\n",
    "                       [16, 17, 18]]])\n",
    "tensor"
   ]
  },
  {
   "cell_type": "code",
   "execution_count": 65,
   "metadata": {},
   "outputs": [
    {
     "data": {
      "text/plain": [
       "3"
      ]
     },
     "execution_count": 65,
     "metadata": {},
     "output_type": "execute_result"
    }
   ],
   "source": [
    "tensor.ndim"
   ]
  },
  {
   "cell_type": "code",
   "execution_count": 70,
   "metadata": {},
   "outputs": [],
   "source": [
    "rnd1 = tf.random.Generator.from_seed(70)\n",
    "rnd1 = rnd1.normal(shape=(40, 20))\n",
    "rnd2 = tf.random.Generator.from_seed(10)\n",
    "rnd2 = rnd2.normal(shape=(50, 30))"
   ]
  },
  {
   "cell_type": "code",
   "execution_count": 73,
   "metadata": {},
   "outputs": [
    {
     "name": "stdout",
     "output_type": "stream",
     "text": [
      "   x1  x2  x3  x4  x5  x6  x7  x8\n",
      "0   1   7   8   2   6   5   0   7\n",
      "1   2   4   1   7   4   4   7   9\n",
      "2   2   9   9   5   7   1   0   6\n",
      "3   3   7   6   6   8   7   1   5\n",
      "4   1   8   4   6   9   1   8   1\n",
      "5   9   7   6   3   1   5   3   0\n",
      "6   2   9   8   0   1   0   5   7\n",
      "7   8   3   5   1   9   0   1   2\n",
      "             x1        x2        x3       x4        x5        x6        x7  \\\n",
      "count  8.000000  8.000000  8.000000  8.00000  8.000000  8.000000  8.000000   \n",
      "mean   3.500000  6.750000  5.875000  3.75000  5.625000  2.875000  3.125000   \n",
      "std    3.162278  2.187628  2.587746  2.60494  3.292307  2.695896  3.181981   \n",
      "min    1.000000  3.000000  1.000000  0.00000  1.000000  0.000000  0.000000   \n",
      "25%    1.750000  6.250000  4.750000  1.75000  3.250000  0.750000  0.750000   \n",
      "50%    2.000000  7.000000  6.000000  4.00000  6.500000  2.500000  2.000000   \n",
      "75%    4.250000  8.250000  8.000000  6.00000  8.250000  5.000000  5.500000   \n",
      "max    9.000000  9.000000  9.000000  7.00000  9.000000  7.000000  8.000000   \n",
      "\n",
      "             x8  \n",
      "count  8.000000  \n",
      "mean   4.625000  \n",
      "std    3.248626  \n",
      "min    0.000000  \n",
      "25%    1.750000  \n",
      "50%    5.500000  \n",
      "75%    7.000000  \n",
      "max    9.000000  \n"
     ]
    }
   ],
   "source": [
    "df2 = pd.DataFrame(np.random.randint(0, 10, (8, 8)), columns=[\"x1\", \"x2\", \"x3\", \"x4\", \"x5\", \"x6\", \"x7\", \"x8\"])\n",
    "print(df2)\n",
    "print(df2.describe(include='all'))"
   ]
  },
  {
   "cell_type": "code",
   "execution_count": 75,
   "metadata": {},
   "outputs": [
    {
     "name": "stdout",
     "output_type": "stream",
     "text": [
      "   feature1  feature2  feature3  target\n",
      "0  0.497053  0.523468  0.900945       2\n",
      "1  0.645815  0.694817  0.847246       2\n",
      "2  0.818841  0.191740  0.254741       4\n",
      "3  0.217914  0.272170  0.190255       4\n",
      "4  0.944384  0.265315  0.292975       3\n",
      "5  0.178797  0.864631  0.413703       0\n",
      "6  0.057196  0.480955  0.138031       2\n",
      "7  0.607045  0.176919  0.251468       4\n",
      "8  0.227207  0.559204  0.655962       2\n",
      "9  0.414441  0.170676  0.201314       3\n",
      "features:[0.49705273 0.5234676  0.9009447 ] target:2\n",
      "features:[0.6458147  0.6948172  0.84724563] target:2\n",
      "features:[0.8188407  0.19174017 0.25474122] target:4\n",
      "features:[0.2179144  0.2721704  0.19025491] target:4\n",
      "features:[0.9443842  0.26531515 0.2929747 ] target:3\n",
      "features:[0.17879732 0.86463064 0.4137029 ] target:0\n",
      "features:[0.0571957  0.4809547  0.13803127] target:2\n",
      "features:[0.60704535 0.1769186  0.25146812] target:4\n",
      "features:[0.22720736 0.5592038  0.65596217] target:2\n",
      "features:[0.41444087 0.17067616 0.20131443] target:3\n"
     ]
    }
   ],
   "source": [
    "training_df: pd.DataFrame = pd.DataFrame(\n",
    "    data={\n",
    "        'feature1': np.random.rand(10),\n",
    "        'feature2': np.random.rand(10),\n",
    "        'feature3': np.random.rand(10),\n",
    "        'target': np.random.randint(0, 5, 10)\n",
    "    }\n",
    ")\n",
    "features = ['feature1', 'feature2', 'feature3']\n",
    "print(training_df)\n",
    "\n",
    "training_dataset = (\n",
    "    tf.data.Dataset.from_tensor_slices(\n",
    "        (\n",
    "            tf.cast(training_df[features].values, tf.float32),\n",
    "            tf.cast(training_df['target'].values, tf.int32)\n",
    "        )\n",
    "    )\n",
    ")\n",
    "\n",
    "for features_tensor, target_tensor in training_dataset:\n",
    "    print(f'features:{features_tensor} target:{target_tensor}')"
   ]
  },
  {
   "cell_type": "code",
   "execution_count": 81,
   "metadata": {},
   "outputs": [
    {
     "data": {
      "image/png": "[encoded data removed]",
      "text/plain": [
       "<Figure size 432x288 with 1 Axes>"
      ]
     },
     "metadata": {
      "needs_background": "light"
     },
     "output_type": "display_data"
    }
   ],
   "source": [
    "x = np.arange(0, 5, 0.5)\n",
    "y1 = x * 2\n",
    "\n",
    "adder = np.random.random(len(x)) * 1.5 - 0.7\n",
    "y2 = y1 + adder\n",
    "\n",
    "plt.figure()\n",
    "plt.grid()\n",
    "plt.xticks(x)\n",
    "plt.yticks(range(int(x[-1] * 1.5 + 1)))\n",
    "plt.xlabel('X')\n",
    "plt.ylabel('Y')\n",
    "\n",
    "plt.plot(x, y1, \"r--\", label=\"prediction\")\n",
    "plt.plot(x, y2, \"b\", label=\"result\")\n",
    "\n",
    "plt.legend()\n",
    "plt.show()"
   ]
  },
  {
   "cell_type": "code",
   "execution_count": 82,
   "metadata": {},
   "outputs": [
    {
     "name": "stdout",
     "output_type": "stream",
     "text": [
      "0.442905641774443\n",
      "0.22834840840677498\n"
     ]
    }
   ],
   "source": [
    "import sklearn.metrics as metrics\n",
    "mae = metrics.mean_absolute_error(y2, y1)\n",
    "mse = metrics.mean_squared_error(y2, y1)\n",
    "print(mae)\n",
    "print(mse)"
   ]
  },
  {
   "cell_type": "code",
   "execution_count": 107,
   "metadata": {},
   "outputs": [
    {
     "name": "stdout",
     "output_type": "stream",
     "text": [
      "     X         Y  Y_hat\n",
      "0  0.0  0.709890    0.0\n",
      "1  0.5  1.509643    1.0\n",
      "2  1.0  1.709824    2.0\n",
      "3  1.5  3.648924    3.0\n",
      "4  2.0  3.724042    4.0\n",
      "5  2.5  5.220017    5.0\n",
      "6  3.0  6.257508    6.0\n",
      "7  3.5  7.522690    7.0\n",
      "8  4.0  8.664692    8.0\n",
      "9  4.5  9.329557    9.0\n"
     ]
    }
   ],
   "source": [
    "df = pd.DataFrame(np.array([x, y2, y1]).swapaxes(0,1), columns=['X', 'Y', 'Y_hat'])\n",
    "print(df)\n",
    "with open('data.csv', 'w') as f:\n",
    "    f.write(df.to_csv(index=False))"
   ]
  },
  {
   "cell_type": "code",
   "execution_count": 108,
   "metadata": {},
   "outputs": [
    {
     "name": "stdout",
     "output_type": "stream",
     "text": [
      "Epoch 1/80\n",
      "1/1 [==============================] - 1s 1s/step - loss: 3.2174 - mae: 3.2174\n",
      "Epoch 2/80\n",
      "1/1 [==============================] - 0s 16ms/step - loss: 3.1595 - mae: 3.1595\n",
      "Epoch 3/80\n",
      "1/1 [==============================] - 0s 8ms/step - loss: 3.1025 - mae: 3.1025\n",
      "Epoch 4/80\n",
      "1/1 [==============================] - 0s 8ms/step - loss: 3.0455 - mae: 3.0455\n",
      "Epoch 5/80\n",
      "1/1 [==============================] - 0s 8ms/step - loss: 2.9885 - mae: 2.9885\n",
      "Epoch 6/80\n",
      "1/1 [==============================] - 0s 8ms/step - loss: 2.9314 - mae: 2.9314\n",
      "Epoch 7/80\n",
      "1/1 [==============================] - 0s 8ms/step - loss: 2.8744 - mae: 2.8744\n",
      "Epoch 8/80\n",
      "1/1 [==============================] - 0s 8ms/step - loss: 2.8174 - mae: 2.8174\n",
      "Epoch 9/80\n",
      "1/1 [==============================] - 0s 8ms/step - loss: 2.7604 - mae: 2.7604\n",
      "Epoch 10/80\n",
      "1/1 [==============================] - 0s 16ms/step - loss: 2.7033 - mae: 2.7033\n",
      "Epoch 11/80\n",
      "1/1 [==============================] - 0s 8ms/step - loss: 2.6463 - mae: 2.6463\n",
      "Epoch 12/80\n",
      "1/1 [==============================] - 0s 8ms/step - loss: 2.5893 - mae: 2.5893\n",
      "Epoch 13/80\n",
      "1/1 [==============================] - 0s 8ms/step - loss: 2.5323 - mae: 2.5323\n",
      "Epoch 14/80\n",
      "1/1 [==============================] - 0s 8ms/step - loss: 2.4752 - mae: 2.4752\n",
      "Epoch 15/80\n",
      "1/1 [==============================] - 0s 15ms/step - loss: 2.4182 - mae: 2.4182\n",
      "Epoch 16/80\n",
      "1/1 [==============================] - 0s 16ms/step - loss: 2.3612 - mae: 2.3612\n",
      "Epoch 17/80\n",
      "1/1 [==============================] - 0s 8ms/step - loss: 2.3042 - mae: 2.3042\n",
      "Epoch 18/80\n",
      "1/1 [==============================] - 0s 8ms/step - loss: 2.2471 - mae: 2.2471\n",
      "Epoch 19/80\n",
      "1/1 [==============================] - 0s 8ms/step - loss: 2.1901 - mae: 2.1901\n",
      "Epoch 20/80\n",
      "1/1 [==============================] - 0s 8ms/step - loss: 2.1331 - mae: 2.1331\n",
      "Epoch 21/80\n",
      "1/1 [==============================] - 0s 8ms/step - loss: 2.0761 - mae: 2.0761\n",
      "Epoch 22/80\n",
      "1/1 [==============================] - 0s 8ms/step - loss: 2.0190 - mae: 2.0190\n",
      "Epoch 23/80\n",
      "1/1 [==============================] - 0s 16ms/step - loss: 1.9620 - mae: 1.9620\n",
      "Epoch 24/80\n",
      "1/1 [==============================] - 0s 10ms/step - loss: 1.9050 - mae: 1.9050\n",
      "Epoch 25/80\n",
      "1/1 [==============================] - 0s 16ms/step - loss: 1.8480 - mae: 1.8480\n",
      "Epoch 26/80\n",
      "1/1 [==============================] - 0s 26ms/step - loss: 1.7909 - mae: 1.7909\n",
      "Epoch 27/80\n",
      "1/1 [==============================] - 0s 8ms/step - loss: 1.7339 - mae: 1.7339\n",
      "Epoch 28/80\n",
      "1/1 [==============================] - 0s 0s/step - loss: 1.6769 - mae: 1.6769\n",
      "Epoch 29/80\n",
      "1/1 [==============================] - 0s 9ms/step - loss: 1.6199 - mae: 1.6199\n",
      "Epoch 30/80\n",
      "1/1 [==============================] - 0s 16ms/step - loss: 1.5628 - mae: 1.5628\n",
      "Epoch 31/80\n",
      "1/1 [==============================] - 0s 8ms/step - loss: 1.5058 - mae: 1.5058\n",
      "Epoch 32/80\n",
      "1/1 [==============================] - 0s 16ms/step - loss: 1.4488 - mae: 1.4488\n",
      "Epoch 33/80\n",
      "1/1 [==============================] - 0s 12ms/step - loss: 1.3918 - mae: 1.3918\n",
      "Epoch 34/80\n",
      "1/1 [==============================] - 0s 8ms/step - loss: 1.3347 - mae: 1.3347\n",
      "Epoch 35/80\n",
      "1/1 [==============================] - 0s 16ms/step - loss: 1.2777 - mae: 1.2777\n",
      "Epoch 36/80\n",
      "1/1 [==============================] - 0s 8ms/step - loss: 1.2207 - mae: 1.2207\n",
      "Epoch 37/80\n",
      "1/1 [==============================] - 0s 8ms/step - loss: 1.1637 - mae: 1.1637\n",
      "Epoch 38/80\n",
      "1/1 [==============================] - 0s 8ms/step - loss: 1.1066 - mae: 1.1066\n",
      "Epoch 39/80\n",
      "1/1 [==============================] - 0s 8ms/step - loss: 1.0531 - mae: 1.0531\n",
      "Epoch 40/80\n",
      "1/1 [==============================] - 0s 0s/step - loss: 1.0033 - mae: 1.0033\n",
      "Epoch 41/80\n",
      "1/1 [==============================] - 0s 8ms/step - loss: 0.9535 - mae: 0.9535\n",
      "Epoch 42/80\n",
      "1/1 [==============================] - 0s 8ms/step - loss: 0.9036 - mae: 0.9036\n",
      "Epoch 43/80\n",
      "1/1 [==============================] - 0s 8ms/step - loss: 0.8538 - mae: 0.8538\n",
      "Epoch 44/80\n",
      "1/1 [==============================] - 0s 8ms/step - loss: 0.8040 - mae: 0.8040\n",
      "Epoch 45/80\n",
      "1/1 [==============================] - 0s 8ms/step - loss: 0.7542 - mae: 0.7542\n",
      "Epoch 46/80\n",
      "1/1 [==============================] - 0s 2ms/step - loss: 0.7043 - mae: 0.7043\n",
      "Epoch 47/80\n",
      "1/1 [==============================] - 0s 16ms/step - loss: 0.6545 - mae: 0.6545\n",
      "Epoch 48/80\n",
      "1/1 [==============================] - 0s 8ms/step - loss: 0.6047 - mae: 0.6047\n",
      "Epoch 49/80\n",
      "1/1 [==============================] - 0s 28ms/step - loss: 0.5559 - mae: 0.5559\n",
      "Epoch 50/80\n",
      "1/1 [==============================] - 0s 8ms/step - loss: 0.5163 - mae: 0.5163\n",
      "Epoch 51/80\n",
      "1/1 [==============================] - 0s 8ms/step - loss: 0.4766 - mae: 0.4766\n",
      "Epoch 52/80\n",
      "1/1 [==============================] - 0s 0s/step - loss: 0.4370 - mae: 0.4370\n",
      "Epoch 53/80\n",
      "1/1 [==============================] - 0s 10ms/step - loss: 0.3974 - mae: 0.3974\n",
      "Epoch 54/80\n",
      "1/1 [==============================] - 0s 8ms/step - loss: 0.3578 - mae: 0.3578\n",
      "Epoch 55/80\n",
      "1/1 [==============================] - 0s 8ms/step - loss: 0.3231 - mae: 0.3231\n",
      "Epoch 56/80\n",
      "1/1 [==============================] - 0s 16ms/step - loss: 0.2954 - mae: 0.2954\n",
      "Epoch 57/80\n",
      "1/1 [==============================] - 0s 12ms/step - loss: 0.2678 - mae: 0.2678\n",
      "Epoch 58/80\n",
      "1/1 [==============================] - 0s 16ms/step - loss: 0.2418 - mae: 0.2418\n",
      "Epoch 59/80\n",
      "1/1 [==============================] - 0s 8ms/step - loss: 0.2262 - mae: 0.2262\n",
      "Epoch 60/80\n",
      "1/1 [==============================] - 0s 8ms/step - loss: 0.2105 - mae: 0.2105\n",
      "Epoch 61/80\n",
      "1/1 [==============================] - 0s 10ms/step - loss: 0.1960 - mae: 0.1960\n",
      "Epoch 62/80\n",
      "1/1 [==============================] - 0s 8ms/step - loss: 0.1899 - mae: 0.1899\n",
      "Epoch 63/80\n",
      "1/1 [==============================] - 0s 8ms/step - loss: 0.1839 - mae: 0.1839\n",
      "Epoch 64/80\n",
      "1/1 [==============================] - 0s 8ms/step - loss: 0.1779 - mae: 0.1779\n",
      "Epoch 65/80\n",
      "1/1 [==============================] - 0s 10ms/step - loss: 0.1737 - mae: 0.1737\n",
      "Epoch 66/80\n",
      "1/1 [==============================] - 0s 18ms/step - loss: 0.1719 - mae: 0.1719\n",
      "Epoch 67/80\n",
      "1/1 [==============================] - 0s 24ms/step - loss: 0.1700 - mae: 0.1700\n",
      "Epoch 68/80\n",
      "1/1 [==============================] - 0s 8ms/step - loss: 0.1682 - mae: 0.1682\n",
      "Epoch 69/80\n",
      "1/1 [==============================] - 0s 8ms/step - loss: 0.1664 - mae: 0.1664\n",
      "Epoch 70/80\n",
      "1/1 [==============================] - 0s 8ms/step - loss: 0.1646 - mae: 0.1646\n",
      "Epoch 71/80\n",
      "1/1 [==============================] - 0s 16ms/step - loss: 0.1627 - mae: 0.1627\n",
      "Epoch 72/80\n",
      "1/1 [==============================] - 0s 5ms/step - loss: 0.1609 - mae: 0.1609\n",
      "Epoch 73/80\n",
      "1/1 [==============================] - 0s 8ms/step - loss: 0.1591 - mae: 0.1591\n",
      "Epoch 74/80\n",
      "1/1 [==============================] - 0s 8ms/step - loss: 0.1573 - mae: 0.1573\n",
      "Epoch 75/80\n",
      "1/1 [==============================] - 0s 8ms/step - loss: 0.1554 - mae: 0.1554\n",
      "Epoch 76/80\n",
      "1/1 [==============================] - 0s 8ms/step - loss: 0.1536 - mae: 0.1536\n",
      "Epoch 77/80\n",
      "1/1 [==============================] - 0s 8ms/step - loss: 0.1518 - mae: 0.1518\n",
      "Epoch 78/80\n",
      "1/1 [==============================] - 0s 8ms/step - loss: 0.1500 - mae: 0.1500\n",
      "Epoch 79/80\n",
      "1/1 [==============================] - 0s 0s/step - loss: 0.1481 - mae: 0.1481\n",
      "Epoch 80/80\n",
      "1/1 [==============================] - 0s 8ms/step - loss: 0.1463 - mae: 0.1463\n"
     ]
    },
    {
     "data": {
      "text/plain": [
       "<keras.callbacks.History at 0x293a34ac910>"
      ]
     },
     "execution_count": 108,
     "metadata": {},
     "output_type": "execute_result"
    }
   ],
   "source": [
    "input_shape = x[0].shape \n",
    "output_shape = y1[0].shape\n",
    "input_shape, output_shape \n",
    "\n",
    "tf.random.set_seed(42)\n",
    "\n",
    "model = tf.keras.Sequential([\n",
    "  tf.keras.layers.Dense(1)\n",
    "])\n",
    "\n",
    "model.compile(loss=tf.keras.losses.mae,\n",
    "              optimizer=tf.keras.optimizers.SGD(),\n",
    "              metrics=[\"mae\"])\n",
    "\n",
    "model.fit(x, y1, epochs=80)"
   ]
  },
  {
   "cell_type": "code",
   "execution_count": 109,
   "metadata": {},
   "outputs": [
    {
     "data": {
      "text/plain": [
       "(10, 0)"
      ]
     },
     "execution_count": 109,
     "metadata": {},
     "output_type": "execute_result"
    }
   ],
   "source": [
    "X_train = x[:80]\n",
    "y_train = y1[:80]\n",
    "\n",
    "X_test = x[80:] \n",
    "y_test = y1[80:]\n",
    "\n",
    "len(X_train), len(X_test)"
   ]
  },
  {
   "cell_type": "code",
   "execution_count": 131,
   "metadata": {},
   "outputs": [
    {
     "data": {
      "text/plain": [
       "<matplotlib.legend.Legend at 0x2939d9bf700>"
      ]
     },
     "execution_count": 131,
     "metadata": {},
     "output_type": "execute_result"
    },
    {
     "data": {
      "image/png": "[encoded data removed]",
      "text/plain": [
       "<Figure size 720x432 with 1 Axes>"
      ]
     },
     "metadata": {
      "needs_background": "light"
     },
     "output_type": "display_data"
    }
   ],
   "source": [
    "plt.figure(figsize=(10, 6))\n",
    "plt.scatter(X_train, y_train, c='b', label='Training')\n",
    "plt.scatter(X_test, y_test, c='g', label='Testing')\n",
    "plt.legend()"
   ]
  },
  {
   "cell_type": "code",
   "execution_count": 111,
   "metadata": {},
   "outputs": [
    {
     "name": "stdout",
     "output_type": "stream",
     "text": [
      "Model: \"sequential_8\"\n",
      "_________________________________________________________________\n",
      "Layer (type)                 Output Shape              Param #   \n",
      "=================================================================\n",
      "dense_16 (Dense)             (None, 1)                 2         \n",
      "=================================================================\n",
      "Total params: 2\n",
      "Trainable params: 2\n",
      "Non-trainable params: 0\n",
      "_________________________________________________________________\n"
     ]
    }
   ],
   "source": [
    "model.summary()"
   ]
  },
  {
   "cell_type": "code",
   "execution_count": 112,
   "metadata": {},
   "outputs": [
    {
     "data": {
      "text/plain": [
       "<keras.callbacks.History at 0x293a359b9a0>"
      ]
     },
     "execution_count": 112,
     "metadata": {},
     "output_type": "execute_result"
    }
   ],
   "source": [
    "model.fit(X_train, y_train, epochs=80, verbose=0)"
   ]
  },
  {
   "cell_type": "code",
   "execution_count": 129,
   "metadata": {},
   "outputs": [
    {
     "data": {
      "text/plain": [
       "array([[39.942238]], dtype=float32)"
      ]
     },
     "execution_count": 129,
     "metadata": {},
     "output_type": "execute_result"
    }
   ],
   "source": [
    "model.predict([20.0])"
   ]
  },
  {
   "cell_type": "code",
   "execution_count": 114,
   "metadata": {},
   "outputs": [
    {
     "data": {
      "text/plain": [
       "<keras.callbacks.History at 0x293a3744250>"
      ]
     },
     "execution_count": 114,
     "metadata": {},
     "output_type": "execute_result"
    }
   ],
   "source": [
    "tf.random.set_seed(42)\n",
    "\n",
    "model_1 = tf.keras.Sequential([\n",
    "  tf.keras.layers.Dense(100), \n",
    "  tf.keras.layers.Dense(10),\n",
    "  tf.keras.layers.Dense(1)\n",
    "])\n",
    "\n",
    "model_1.compile(loss=tf.keras.losses.BinaryCrossentropy(),\n",
    "                optimizer=tf.keras.optimizers.Adam(), \n",
    "                metrics=['accuracy'])\n",
    "\n",
    "model_1.fit(x, y1, epochs=20, verbose=0)"
   ]
  },
  {
   "cell_type": "code",
   "execution_count": 115,
   "metadata": {},
   "outputs": [],
   "source": [
    "def plot_decision_boundary(model, X, y):\n",
    "    \n",
    "  x_min, x_max = X[:, 0].min() - 0.1, X[:, 0].max() + 0.1\n",
    "  y_min, y_max = X[:, 1].min() - 0.1, X[:, 1].max() + 0.1\n",
    "  xx, yy = np.meshgrid(np.linspace(x_min, x_max, 100),\n",
    "                       np.linspace(y_min, y_max, 100))\n",
    "  \n",
    "  x_in = np.c_[xx.ravel(), yy.ravel()]\n",
    " \n",
    "  y_pred = model.predict(x_in)\n",
    "\n",
    "  if len(y_pred[0]) > 1:\n",
    "    print(\"doing multiclass classification...\")\n",
    "    y_pred = np.argmax(y_pred, axis=1).reshape(xx.shape)\n",
    "  else:\n",
    "    print(\"doing binary classifcation...\")\n",
    "    y_pred = np.round(y_pred).reshape(xx.shape)\n",
    "\n",
    "  plt.contourf(xx, yy, y_pred, cmap=plt.cm.RdYlBu, alpha=0.7)\n",
    "  plt.scatter(X[:, 0], X[:, 1], c=y, s=40, cmap=plt.cm.RdYlBu)\n",
    "  plt.xlim(xx.min(), xx.max())\n",
    "  plt.ylim(yy.min(), yy.max())"
   ]
  },
  {
   "cell_type": "code",
   "execution_count": 116,
   "metadata": {},
   "outputs": [],
   "source": [
    "tf.random.set_seed(42)\n",
    "\n",
    "X_regression = np.arange(0, 100, 5)\n",
    "y_regression = np.arange(100, 110, 5)\n",
    "\n",
    "X_reg_train = X_regression[:150]\n",
    "X_reg_test = X_regression[150:]\n",
    "y_reg_train = y_regression[:150]\n",
    "y_reg_test = y_regression[150:]"
   ]
  },
  {
   "cell_type": "code",
   "execution_count": 117,
   "metadata": {},
   "outputs": [
    {
     "name": "stdout",
     "output_type": "stream",
     "text": [
      "1/1 [==============================] - 0s 464ms/step - loss: -53.5553 - accuracy: 0.2000\n"
     ]
    },
    {
     "data": {
      "text/plain": [
       "[-53.5552864074707, 0.20000000298023224]"
      ]
     },
     "execution_count": 117,
     "metadata": {},
     "output_type": "execute_result"
    }
   ],
   "source": [
    "model_1.evaluate(x, y1)"
   ]
  },
  {
   "cell_type": "code",
   "execution_count": 118,
   "metadata": {},
   "outputs": [
    {
     "data": {
      "text/plain": [
       "10"
      ]
     },
     "execution_count": 118,
     "metadata": {},
     "output_type": "execute_result"
    }
   ],
   "source": [
    "len(x)"
   ]
  },
  {
   "cell_type": "code",
   "execution_count": 119,
   "metadata": {},
   "outputs": [
    {
     "data": {
      "text/plain": [
       "((10,), (0,))"
      ]
     },
     "execution_count": 119,
     "metadata": {},
     "output_type": "execute_result"
    }
   ],
   "source": [
    "X_train, y_train = x[:800], y1[:800]\n",
    "X_test, y_test = x[800:], y1[800:]\n",
    "\n",
    "X_train.shape, X_test.shape"
   ]
  },
  {
   "cell_type": "code",
   "execution_count": 120,
   "metadata": {},
   "outputs": [
    {
     "name": "stderr",
     "output_type": "stream",
     "text": [
      "D:\\anaconda\\lib\\site-packages\\keras\\optimizer_v2\\optimizer_v2.py:355: UserWarning: The `lr` argument is deprecated, use `learning_rate` instead.\n",
      "  warnings.warn(\n"
     ]
    },
    {
     "name": "stdout",
     "output_type": "stream",
     "text": [
      "Epoch 1/25\n",
      "1/1 [==============================] - 1s 1s/step - loss: 3.6568 - accuracy: 0.1000\n",
      "Epoch 2/25\n",
      "1/1 [==============================] - 0s 8ms/step - loss: 3.3166 - accuracy: 0.0000e+00\n",
      "Epoch 3/25\n",
      "1/1 [==============================] - 0s 8ms/step - loss: 2.9870 - accuracy: 0.0000e+00\n",
      "Epoch 4/25\n",
      "1/1 [==============================] - 0s 8ms/step - loss: 2.6683 - accuracy: 0.1000\n",
      "Epoch 5/25\n",
      "1/1 [==============================] - 0s 8ms/step - loss: 2.3606 - accuracy: 0.1000\n",
      "Epoch 6/25\n",
      "1/1 [==============================] - 0s 0s/step - loss: 2.0638 - accuracy: 0.1000\n",
      "Epoch 7/25\n",
      "1/1 [==============================] - 0s 8ms/step - loss: 1.7780 - accuracy: 0.1000\n",
      "Epoch 8/25\n",
      "1/1 [==============================] - 0s 8ms/step - loss: 1.5038 - accuracy: 0.1000\n",
      "Epoch 9/25\n",
      "1/1 [==============================] - 0s 8ms/step - loss: 1.2406 - accuracy: 0.1000\n",
      "Epoch 10/25\n",
      "1/1 [==============================] - 0s 8ms/step - loss: 0.9881 - accuracy: 0.1000\n",
      "Epoch 11/25\n",
      "1/1 [==============================] - 0s 8ms/step - loss: 0.7460 - accuracy: 0.1000\n",
      "Epoch 12/25\n",
      "1/1 [==============================] - 0s 8ms/step - loss: 0.5163 - accuracy: 0.1000\n",
      "Epoch 13/25\n",
      "1/1 [==============================] - 0s 8ms/step - loss: 0.2977 - accuracy: 0.1000\n",
      "Epoch 14/25\n",
      "1/1 [==============================] - 0s 8ms/step - loss: 0.0886 - accuracy: 0.1000\n",
      "Epoch 15/25\n",
      "1/1 [==============================] - 0s 16ms/step - loss: -0.1086 - accuracy: 0.1000\n",
      "Epoch 16/25\n",
      "1/1 [==============================] - 0s 8ms/step - loss: -0.2940 - accuracy: 0.1000\n",
      "Epoch 17/25\n",
      "1/1 [==============================] - 0s 16ms/step - loss: -0.4710 - accuracy: 0.1000\n",
      "Epoch 18/25\n",
      "1/1 [==============================] - 0s 8ms/step - loss: -0.6333 - accuracy: 0.1000\n",
      "Epoch 19/25\n",
      "1/1 [==============================] - 0s 8ms/step - loss: -0.7875 - accuracy: 0.1000\n",
      "Epoch 20/25\n",
      "1/1 [==============================] - 0s 16ms/step - loss: -0.9288 - accuracy: 0.1000\n",
      "Epoch 21/25\n",
      "1/1 [==============================] - 0s 8ms/step - loss: -1.0609 - accuracy: 0.1000\n",
      "Epoch 22/25\n",
      "1/1 [==============================] - 0s 8ms/step - loss: -1.1820 - accuracy: 0.1000\n",
      "Epoch 23/25\n",
      "1/1 [==============================] - 0s 16ms/step - loss: -1.2952 - accuracy: 0.1000\n",
      "Epoch 24/25\n",
      "1/1 [==============================] - 0s 8ms/step - loss: -1.3990 - accuracy: 0.1000\n",
      "Epoch 25/25\n",
      "1/1 [==============================] - 0s 8ms/step - loss: -1.4979 - accuracy: 0.1000\n"
     ]
    }
   ],
   "source": [
    "tf.random.set_seed(42)\n",
    "\n",
    "model_2 = tf.keras.Sequential([\n",
    "  tf.keras.layers.Dense(4, activation=\"relu\"), \n",
    "  tf.keras.layers.Dense(4, activation=\"relu\"),\n",
    "  tf.keras.layers.Dense(1, activation=\"sigmoid\")\n",
    "])\n",
    "\n",
    "model_2.compile(loss=tf.keras.losses.binary_crossentropy,\n",
    "                optimizer=tf.keras.optimizers.Adam(lr=0.01), \n",
    "                metrics=['accuracy'])\n",
    "\n",
    "history = model_2.fit(X_train, y_train, epochs=25)"
   ]
  },
  {
   "cell_type": "code",
   "execution_count": 121,
   "metadata": {},
   "outputs": [
    {
     "data": {
      "text/html": [
       "<div>\n",
       "<style scoped>\n",
       "    .dataframe tbody tr th:only-of-type {\n",
       "        vertical-align: middle;\n",
       "    }\n",
       "\n",
       "    .dataframe tbody tr th {\n",
       "        vertical-align: top;\n",
       "    }\n",
       "\n",
       "    .dataframe thead th {\n",
       "        text-align: right;\n",
       "    }\n",
       "</style>\n",
       "<table border=\"1\" class=\"dataframe\">\n",
       "  <thead>\n",
       "    <tr style=\"text-align: right;\">\n",
       "      <th></th>\n",
       "      <th>loss</th>\n",
       "      <th>accuracy</th>\n",
       "    </tr>\n",
       "  </thead>\n",
       "  <tbody>\n",
       "    <tr>\n",
       "      <th>0</th>\n",
       "      <td>3.656841</td>\n",
       "      <td>0.1</td>\n",
       "    </tr>\n",
       "    <tr>\n",
       "      <th>1</th>\n",
       "      <td>3.316552</td>\n",
       "      <td>0.0</td>\n",
       "    </tr>\n",
       "    <tr>\n",
       "      <th>2</th>\n",
       "      <td>2.987022</td>\n",
       "      <td>0.0</td>\n",
       "    </tr>\n",
       "    <tr>\n",
       "      <th>3</th>\n",
       "      <td>2.668347</td>\n",
       "      <td>0.1</td>\n",
       "    </tr>\n",
       "    <tr>\n",
       "      <th>4</th>\n",
       "      <td>2.360600</td>\n",
       "      <td>0.1</td>\n",
       "    </tr>\n",
       "    <tr>\n",
       "      <th>5</th>\n",
       "      <td>2.063806</td>\n",
       "      <td>0.1</td>\n",
       "    </tr>\n",
       "    <tr>\n",
       "      <th>6</th>\n",
       "      <td>1.777956</td>\n",
       "      <td>0.1</td>\n",
       "    </tr>\n",
       "    <tr>\n",
       "      <th>7</th>\n",
       "      <td>1.503834</td>\n",
       "      <td>0.1</td>\n",
       "    </tr>\n",
       "    <tr>\n",
       "      <th>8</th>\n",
       "      <td>1.240631</td>\n",
       "      <td>0.1</td>\n",
       "    </tr>\n",
       "    <tr>\n",
       "      <th>9</th>\n",
       "      <td>0.988077</td>\n",
       "      <td>0.1</td>\n",
       "    </tr>\n",
       "    <tr>\n",
       "      <th>10</th>\n",
       "      <td>0.745989</td>\n",
       "      <td>0.1</td>\n",
       "    </tr>\n",
       "    <tr>\n",
       "      <th>11</th>\n",
       "      <td>0.516312</td>\n",
       "      <td>0.1</td>\n",
       "    </tr>\n",
       "    <tr>\n",
       "      <th>12</th>\n",
       "      <td>0.297672</td>\n",
       "      <td>0.1</td>\n",
       "    </tr>\n",
       "    <tr>\n",
       "      <th>13</th>\n",
       "      <td>0.088589</td>\n",
       "      <td>0.1</td>\n",
       "    </tr>\n",
       "    <tr>\n",
       "      <th>14</th>\n",
       "      <td>-0.108579</td>\n",
       "      <td>0.1</td>\n",
       "    </tr>\n",
       "    <tr>\n",
       "      <th>15</th>\n",
       "      <td>-0.293966</td>\n",
       "      <td>0.1</td>\n",
       "    </tr>\n",
       "    <tr>\n",
       "      <th>16</th>\n",
       "      <td>-0.471002</td>\n",
       "      <td>0.1</td>\n",
       "    </tr>\n",
       "    <tr>\n",
       "      <th>17</th>\n",
       "      <td>-0.633313</td>\n",
       "      <td>0.1</td>\n",
       "    </tr>\n",
       "    <tr>\n",
       "      <th>18</th>\n",
       "      <td>-0.787490</td>\n",
       "      <td>0.1</td>\n",
       "    </tr>\n",
       "    <tr>\n",
       "      <th>19</th>\n",
       "      <td>-0.928831</td>\n",
       "      <td>0.1</td>\n",
       "    </tr>\n",
       "    <tr>\n",
       "      <th>20</th>\n",
       "      <td>-1.060899</td>\n",
       "      <td>0.1</td>\n",
       "    </tr>\n",
       "    <tr>\n",
       "      <th>21</th>\n",
       "      <td>-1.181999</td>\n",
       "      <td>0.1</td>\n",
       "    </tr>\n",
       "    <tr>\n",
       "      <th>22</th>\n",
       "      <td>-1.295164</td>\n",
       "      <td>0.1</td>\n",
       "    </tr>\n",
       "    <tr>\n",
       "      <th>23</th>\n",
       "      <td>-1.398983</td>\n",
       "      <td>0.1</td>\n",
       "    </tr>\n",
       "    <tr>\n",
       "      <th>24</th>\n",
       "      <td>-1.497884</td>\n",
       "      <td>0.1</td>\n",
       "    </tr>\n",
       "  </tbody>\n",
       "</table>\n",
       "</div>"
      ],
      "text/plain": [
       "        loss  accuracy\n",
       "0   3.656841       0.1\n",
       "1   3.316552       0.0\n",
       "2   2.987022       0.0\n",
       "3   2.668347       0.1\n",
       "4   2.360600       0.1\n",
       "5   2.063806       0.1\n",
       "6   1.777956       0.1\n",
       "7   1.503834       0.1\n",
       "8   1.240631       0.1\n",
       "9   0.988077       0.1\n",
       "10  0.745989       0.1\n",
       "11  0.516312       0.1\n",
       "12  0.297672       0.1\n",
       "13  0.088589       0.1\n",
       "14 -0.108579       0.1\n",
       "15 -0.293966       0.1\n",
       "16 -0.471002       0.1\n",
       "17 -0.633313       0.1\n",
       "18 -0.787490       0.1\n",
       "19 -0.928831       0.1\n",
       "20 -1.060899       0.1\n",
       "21 -1.181999       0.1\n",
       "22 -1.295164       0.1\n",
       "23 -1.398983       0.1\n",
       "24 -1.497884       0.1"
      ]
     },
     "execution_count": 121,
     "metadata": {},
     "output_type": "execute_result"
    }
   ],
   "source": [
    "pd.DataFrame(history.history)"
   ]
  },
  {
   "cell_type": "code",
   "execution_count": 122,
   "metadata": {},
   "outputs": [
    {
     "data": {
      "text/plain": [
       "Text(0.5, 1.0, 'training_2 ')"
      ]
     },
     "execution_count": 122,
     "metadata": {},
     "output_type": "execute_result"
    },
    {
     "data": {
      "image/png": "[encoded data removed]",
      "text/plain": [
       "<Figure size 432x288 with 1 Axes>"
      ]
     },
     "metadata": {
      "needs_background": "light"
     },
     "output_type": "display_data"
    }
   ],
   "source": [
    "pd.DataFrame(history.history).plot()\n",
    "plt.title(\"training_2 \")"
   ]
  },
  {
   "cell_type": "code",
   "execution_count": 123,
   "metadata": {},
   "outputs": [
    {
     "name": "stdout",
     "output_type": "stream",
     "text": [
      "Epoch 1/80\n",
      "1/1 [==============================] - 1s 800ms/step - loss: 3.2174 - mae: 3.2174\n",
      "Epoch 2/80\n",
      "1/1 [==============================] - 0s 8ms/step - loss: 3.1595 - mae: 3.1595\n",
      "Epoch 3/80\n",
      "1/1 [==============================] - 0s 8ms/step - loss: 3.1025 - mae: 3.1025\n",
      "Epoch 4/80\n",
      "1/1 [==============================] - 0s 0s/step - loss: 3.0455 - mae: 3.0455\n",
      "Epoch 5/80\n",
      "1/1 [==============================] - 0s 8ms/step - loss: 2.9885 - mae: 2.9885\n",
      "Epoch 6/80\n",
      "1/1 [==============================] - 0s 8ms/step - loss: 2.9314 - mae: 2.9314\n",
      "Epoch 7/80\n",
      "1/1 [==============================] - 0s 8ms/step - loss: 2.8744 - mae: 2.8744\n",
      "Epoch 8/80\n",
      "1/1 [==============================] - 0s 8ms/step - loss: 2.8174 - mae: 2.8174\n",
      "Epoch 9/80\n",
      "1/1 [==============================] - 0s 8ms/step - loss: 2.7604 - mae: 2.7604\n",
      "Epoch 10/80\n",
      "1/1 [==============================] - 0s 8ms/step - loss: 2.7033 - mae: 2.7033\n",
      "Epoch 11/80\n",
      "1/1 [==============================] - 0s 8ms/step - loss: 2.6463 - mae: 2.6463\n",
      "Epoch 12/80\n",
      "1/1 [==============================] - 0s 16ms/step - loss: 2.5893 - mae: 2.5893\n",
      "Epoch 13/80\n",
      "1/1 [==============================] - 0s 8ms/step - loss: 2.5323 - mae: 2.5323\n",
      "Epoch 14/80\n",
      "1/1 [==============================] - 0s 8ms/step - loss: 2.4752 - mae: 2.4752\n",
      "Epoch 15/80\n",
      "1/1 [==============================] - 0s 8ms/step - loss: 2.4182 - mae: 2.4182\n",
      "Epoch 16/80\n",
      "1/1 [==============================] - 0s 8ms/step - loss: 2.3612 - mae: 2.3612\n",
      "Epoch 17/80\n",
      "1/1 [==============================] - 0s 8ms/step - loss: 2.3042 - mae: 2.3042\n",
      "Epoch 18/80\n",
      "1/1 [==============================] - 0s 8ms/step - loss: 2.2471 - mae: 2.2471\n",
      "Epoch 19/80\n",
      "1/1 [==============================] - 0s 8ms/step - loss: 2.1901 - mae: 2.1901\n",
      "Epoch 20/80\n",
      "1/1 [==============================] - 0s 8ms/step - loss: 2.1331 - mae: 2.1331\n",
      "Epoch 21/80\n",
      "1/1 [==============================] - 0s 8ms/step - loss: 2.0761 - mae: 2.0761\n",
      "Epoch 22/80\n",
      "1/1 [==============================] - 0s 8ms/step - loss: 2.0190 - mae: 2.0190\n",
      "Epoch 23/80\n",
      "1/1 [==============================] - 0s 8ms/step - loss: 1.9620 - mae: 1.9620\n",
      "Epoch 24/80\n",
      "1/1 [==============================] - 0s 8ms/step - loss: 1.9050 - mae: 1.9050\n",
      "Epoch 25/80\n",
      "1/1 [==============================] - 0s 8ms/step - loss: 1.8480 - mae: 1.8480\n",
      "Epoch 26/80\n",
      "1/1 [==============================] - 0s 8ms/step - loss: 1.7909 - mae: 1.7909\n",
      "Epoch 27/80\n",
      "1/1 [==============================] - 0s 8ms/step - loss: 1.7339 - mae: 1.7339\n",
      "Epoch 28/80\n",
      "1/1 [==============================] - 0s 8ms/step - loss: 1.6769 - mae: 1.6769\n",
      "Epoch 29/80\n",
      "1/1 [==============================] - 0s 8ms/step - loss: 1.6199 - mae: 1.6199\n",
      "Epoch 30/80\n",
      "1/1 [==============================] - 0s 8ms/step - loss: 1.5628 - mae: 1.5628\n",
      "Epoch 31/80\n",
      "1/1 [==============================] - 0s 8ms/step - loss: 1.5058 - mae: 1.5058\n",
      "Epoch 32/80\n",
      "1/1 [==============================] - 0s 8ms/step - loss: 1.4488 - mae: 1.4488\n",
      "Epoch 33/80\n",
      "1/1 [==============================] - 0s 8ms/step - loss: 1.3918 - mae: 1.3918\n",
      "Epoch 34/80\n",
      "1/1 [==============================] - 0s 8ms/step - loss: 1.3347 - mae: 1.3347\n",
      "Epoch 35/80\n",
      "1/1 [==============================] - 0s 8ms/step - loss: 1.2777 - mae: 1.2777\n",
      "Epoch 36/80\n",
      "1/1 [==============================] - 0s 0s/step - loss: 1.2207 - mae: 1.2207\n",
      "Epoch 37/80\n",
      "1/1 [==============================] - 0s 8ms/step - loss: 1.1637 - mae: 1.1637\n",
      "Epoch 38/80\n",
      "1/1 [==============================] - 0s 8ms/step - loss: 1.1066 - mae: 1.1066\n",
      "Epoch 39/80\n",
      "1/1 [==============================] - 0s 8ms/step - loss: 1.0531 - mae: 1.0531\n",
      "Epoch 40/80\n",
      "1/1 [==============================] - 0s 8ms/step - loss: 1.0033 - mae: 1.0033\n",
      "Epoch 41/80\n",
      "1/1 [==============================] - 0s 16ms/step - loss: 0.9535 - mae: 0.9535\n",
      "Epoch 42/80\n",
      "1/1 [==============================] - 0s 8ms/step - loss: 0.9036 - mae: 0.9036\n",
      "Epoch 43/80\n",
      "1/1 [==============================] - 0s 8ms/step - loss: 0.8538 - mae: 0.8538\n",
      "Epoch 44/80\n",
      "1/1 [==============================] - 0s 8ms/step - loss: 0.8040 - mae: 0.8040\n",
      "Epoch 45/80\n",
      "1/1 [==============================] - 0s 8ms/step - loss: 0.7542 - mae: 0.7542\n",
      "Epoch 46/80\n",
      "1/1 [==============================] - 0s 8ms/step - loss: 0.7043 - mae: 0.7043\n",
      "Epoch 47/80\n",
      "1/1 [==============================] - 0s 8ms/step - loss: 0.6545 - mae: 0.6545\n",
      "Epoch 48/80\n",
      "1/1 [==============================] - 0s 16ms/step - loss: 0.6047 - mae: 0.6047\n",
      "Epoch 49/80\n",
      "1/1 [==============================] - 0s 8ms/step - loss: 0.5559 - mae: 0.5559\n",
      "Epoch 50/80\n",
      "1/1 [==============================] - 0s 8ms/step - loss: 0.5163 - mae: 0.5163\n",
      "Epoch 51/80\n",
      "1/1 [==============================] - 0s 8ms/step - loss: 0.4766 - mae: 0.4766\n",
      "Epoch 52/80\n",
      "1/1 [==============================] - 0s 8ms/step - loss: 0.4370 - mae: 0.4370\n",
      "Epoch 53/80\n",
      "1/1 [==============================] - 0s 8ms/step - loss: 0.3974 - mae: 0.3974\n",
      "Epoch 54/80\n",
      "1/1 [==============================] - 0s 16ms/step - loss: 0.3578 - mae: 0.3578\n",
      "Epoch 55/80\n",
      "1/1 [==============================] - 0s 8ms/step - loss: 0.3231 - mae: 0.3231\n",
      "Epoch 56/80\n",
      "1/1 [==============================] - 0s 8ms/step - loss: 0.2954 - mae: 0.2954\n",
      "Epoch 57/80\n",
      "1/1 [==============================] - 0s 8ms/step - loss: 0.2678 - mae: 0.2678\n",
      "Epoch 58/80\n",
      "1/1 [==============================] - 0s 8ms/step - loss: 0.2418 - mae: 0.2418\n",
      "Epoch 59/80\n",
      "1/1 [==============================] - 0s 8ms/step - loss: 0.2262 - mae: 0.2262\n",
      "Epoch 60/80\n",
      "1/1 [==============================] - 0s 8ms/step - loss: 0.2105 - mae: 0.2105\n",
      "Epoch 61/80\n",
      "1/1 [==============================] - 0s 16ms/step - loss: 0.1960 - mae: 0.1960\n",
      "Epoch 62/80\n",
      "1/1 [==============================] - 0s 8ms/step - loss: 0.1899 - mae: 0.1899\n",
      "Epoch 63/80\n",
      "1/1 [==============================] - 0s 8ms/step - loss: 0.1839 - mae: 0.1839\n",
      "Epoch 64/80\n",
      "1/1 [==============================] - 0s 8ms/step - loss: 0.1779 - mae: 0.1779\n",
      "Epoch 65/80\n",
      "1/1 [==============================] - 0s 8ms/step - loss: 0.1737 - mae: 0.1737\n",
      "Epoch 66/80\n",
      "1/1 [==============================] - 0s 16ms/step - loss: 0.1719 - mae: 0.1719\n",
      "Epoch 67/80\n",
      "1/1 [==============================] - 0s 8ms/step - loss: 0.1700 - mae: 0.1700\n",
      "Epoch 68/80\n",
      "1/1 [==============================] - 0s 8ms/step - loss: 0.1682 - mae: 0.1682\n",
      "Epoch 69/80\n",
      "1/1 [==============================] - 0s 8ms/step - loss: 0.1664 - mae: 0.1664\n",
      "Epoch 70/80\n",
      "1/1 [==============================] - 0s 0s/step - loss: 0.1646 - mae: 0.1646\n",
      "Epoch 71/80\n",
      "1/1 [==============================] - 0s 8ms/step - loss: 0.1627 - mae: 0.1627\n",
      "Epoch 72/80\n",
      "1/1 [==============================] - 0s 8ms/step - loss: 0.1609 - mae: 0.1609\n",
      "Epoch 73/80\n",
      "1/1 [==============================] - 0s 8ms/step - loss: 0.1591 - mae: 0.1591\n",
      "Epoch 74/80\n",
      "1/1 [==============================] - 0s 8ms/step - loss: 0.1573 - mae: 0.1573\n",
      "Epoch 75/80\n",
      "1/1 [==============================] - 0s 8ms/step - loss: 0.1554 - mae: 0.1554\n",
      "Epoch 76/80\n",
      "1/1 [==============================] - 0s 8ms/step - loss: 0.1536 - mae: 0.1536\n",
      "Epoch 77/80\n",
      "1/1 [==============================] - 0s 8ms/step - loss: 0.1518 - mae: 0.1518\n",
      "Epoch 78/80\n",
      "1/1 [==============================] - 0s 8ms/step - loss: 0.1500 - mae: 0.1500\n",
      "Epoch 79/80\n",
      "1/1 [==============================] - 0s 8ms/step - loss: 0.1481 - mae: 0.1481\n",
      "Epoch 80/80\n",
      "1/1 [==============================] - 0s 8ms/step - loss: 0.1463 - mae: 0.1463\n"
     ]
    },
    {
     "data": {
      "text/plain": [
       "<keras.callbacks.History at 0x293a31cafa0>"
      ]
     },
     "execution_count": 123,
     "metadata": {},
     "output_type": "execute_result"
    }
   ],
   "source": [
    "input_shape = x[0].shape \n",
    "output_shape = y1[0].shape\n",
    "input_shape, output_shape \n",
    "\n",
    "tf.random.set_seed(42)\n",
    "\n",
    "model = tf.keras.Sequential([\n",
    "  tf.keras.layers.Dense(1)\n",
    "])\n",
    "\n",
    "model.compile(loss=tf.keras.losses.mae,\n",
    "              optimizer=tf.keras.optimizers.SGD(),\n",
    "              metrics=[\"mae\"])\n",
    "\n",
    "model.fit(x, y1, epochs=80)"
   ]
  },
  {
   "cell_type": "code",
   "execution_count": 124,
   "metadata": {},
   "outputs": [
    {
     "data": {
      "text/plain": [
       "(10, 0)"
      ]
     },
     "execution_count": 124,
     "metadata": {},
     "output_type": "execute_result"
    }
   ],
   "source": [
    "X_train = x[:80]\n",
    "y_train = y1[:80]\n",
    "\n",
    "X_test = x[80:] \n",
    "y_test = y1[80:]\n",
    "\n",
    "len(X_train), len(X_test)"
   ]
  },
  {
   "cell_type": "code",
   "execution_count": 125,
   "metadata": {},
   "outputs": [
    {
     "data": {
      "text/plain": [
       "<matplotlib.legend.Legend at 0x2939e2b9670>"
      ]
     },
     "execution_count": 125,
     "metadata": {},
     "output_type": "execute_result"
    },
    {
     "data": {
      "image/png": "[encoded data removed]",
      "text/plain": [
       "<Figure size 720x432 with 1 Axes>"
      ]
     },
     "metadata": {
      "needs_background": "light"
     },
     "output_type": "display_data"
    }
   ],
   "source": [
    "plt.figure(figsize=(10, 6))\n",
    "plt.scatter(X_train, y_train, c='b', label='Training')\n",
    "plt.scatter(X_test, y_test, c='g', label='Testing')\n",
    "plt.legend()"
   ]
  },
  {
   "cell_type": "code",
   "execution_count": 126,
   "metadata": {},
   "outputs": [
    {
     "name": "stdout",
     "output_type": "stream",
     "text": [
      "Model: \"sequential_11\"\n",
      "_________________________________________________________________\n",
      "Layer (type)                 Output Shape              Param #   \n",
      "=================================================================\n",
      "dense_23 (Dense)             (None, 1)                 2         \n",
      "=================================================================\n",
      "Total params: 2\n",
      "Trainable params: 2\n",
      "Non-trainable params: 0\n",
      "_________________________________________________________________\n"
     ]
    }
   ],
   "source": [
    "model.summary()"
   ]
  },
  {
   "cell_type": "code",
   "execution_count": 127,
   "metadata": {},
   "outputs": [
    {
     "data": {
      "text/plain": [
       "<keras.callbacks.History at 0x2939f74f430>"
      ]
     },
     "execution_count": 127,
     "metadata": {},
     "output_type": "execute_result"
    }
   ],
   "source": [
    "model.fit(X_train, y_train, epochs=80, verbose=0)"
   ]
  },
  {
   "cell_type": "code",
   "execution_count": 128,
   "metadata": {},
   "outputs": [
    {
     "name": "stdout",
     "output_type": "stream",
     "text": [
      "WARNING:tensorflow:6 out of the last 6 calls to <function Model.make_predict_function.<locals>.predict_function at 0x00000293A1FCFCA0> triggered tf.function retracing. Tracing is expensive and the excessive number of tracings could be due to (1) creating @tf.function repeatedly in a loop, (2) passing tensors with different shapes, (3) passing Python objects instead of tensors. For (1), please define your @tf.function outside of the loop. For (2), @tf.function has experimental_relax_shapes=True option that relaxes argument shapes that can avoid unnecessary retracing. For (3), please refer to https://www.tensorflow.org/guide/function#controlling_retracing and https://www.tensorflow.org/api_docs/python/tf/function for  more details.\n"
     ]
    },
    {
     "data": {
      "text/plain": [
       "array([[39.942238]], dtype=float32)"
      ]
     },
     "execution_count": 128,
     "metadata": {},
     "output_type": "execute_result"
    }
   ],
   "source": [
    "model.predict([20.0])"
   ]
  }
 ],
 "metadata": {
  "interpreter": {
   "hash": "cc5f70855ac006f3de45a3cc3b9e7d8d53845e50458809cb162b0174266dec97"
  },
  "kernelspec": {
   "display_name": "Python 3.8.8 64-bit ('base': conda)",
   "name": "python3"
  },
  "language_info": {
   "codemirror_mode": {
    "name": "ipython",
    "version": 3
   },
   "file_extension": ".py",
   "mimetype": "text/x-python",
   "name": "python",
   "nbconvert_exporter": "python",
   "pygments_lexer": "ipython3",
   "version": "3.8.8"
  },
  "orig_nbformat": 4
 },
 "nbformat": 4,
 "nbformat_minor": 2
}
