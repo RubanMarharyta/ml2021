{
 "cells": [
  {
   "cell_type": "markdown",
   "metadata": {},
   "source": [
    "# Лабораторна робота 4\n",
    "### Студента групи МІТ-31 (підгрупа 2)\n",
    "### Рубан Маргарита Юріївна\n",
    "\n",
    "## Завдання\n",
    "1. Здійснити загальні операції з використанням TensorFlow (створити набір даних (розмір за власним рішенням) у вигляді тензорів, провести CRUD операції над даними (скаляр, вектор, матриця)).\n",
    "2. Згенерувати набір даних для регресії та класифікації з використанням TensorFlow\n",
    "3. Здійснити графічний аналіз наборів даних за допомогою Matplotlib\n",
    "4. Відповіді оформити .ipynb документом\n",
    "5. Викласти у зазначений репозіторій GitHub в окремій папці з назвою Lab4 де має бути .ipynb файл та необхідні файли з даними\n"
   ]
  },
  {
   "cell_type": "code",
   "execution_count": 59,
   "metadata": {},
   "outputs": [],
   "source": [
    "import pandas as pd\n",
    "import numpy as np\n",
    "import matplotlib.pyplot as plt\n",
    "import seaborn as sns\n",
    "from sklearn.datasets import make_regression\n",
    "import tensorflow as tf"
   ]
  },
  {
   "cell_type": "markdown",
   "metadata": {},
   "source": [
    "### Пункт 1"
   ]
  },
  {
   "cell_type": "code",
   "execution_count": 60,
   "metadata": {},
   "outputs": [
    {
     "name": "stdout",
     "output_type": "stream",
     "text": [
      "tf.Tensor(\n",
      "[[1 2 3]\n",
      " [4 5 6]\n",
      " [7 8 9]], shape=(3, 3), dtype=int32)\n",
      "[[ 1  4  9]\n",
      " [16 25 36]\n",
      " [49 64 81]]\n",
      "tf.Tensor(\n",
      "[[101 102 103]\n",
      " [104 105 106]\n",
      " [107 108 109]], shape=(3, 3), dtype=int32)\n",
      "tf.Tensor([[104 105 106]], shape=(1, 3), dtype=int32)\n"
     ]
    }
   ],
   "source": [
    "tf1 = tf.constant([[1, 2, 3], [4, 5, 6], [7, 8, 9]])\n",
    "print(tf1)\n",
    "print(np.square(tf1))\n",
    "tf1 = tf1 + 100\n",
    "print(tf1)\n",
    "tf1_new = tf.gather(tf1, [1])\n",
    "print(tf1_new)"
   ]
  },
  {
   "cell_type": "code",
   "execution_count": 61,
   "metadata": {},
   "outputs": [
    {
     "data": {
      "text/plain": [
       "<tf.Tensor: shape=(), dtype=int32, numpy=9>"
      ]
     },
     "execution_count": 61,
     "metadata": {},
     "output_type": "execute_result"
    }
   ],
   "source": [
    "scalar = tf.constant(9)\n",
    "scalar"
   ]
  },
  {
   "cell_type": "code",
   "execution_count": 62,
   "metadata": {},
   "outputs": [
    {
     "data": {
      "text/plain": [
       "0"
      ]
     },
     "execution_count": 62,
     "metadata": {},
     "output_type": "execute_result"
    }
   ],
   "source": [
    "scalar.ndim"
   ]
  },
  {
   "cell_type": "code",
   "execution_count": 63,
   "metadata": {},
   "outputs": [
    {
     "data": {
      "text/plain": [
       "<tf.Tensor: shape=(3,), dtype=int32, numpy=array([18, 12, 15], dtype=int32)>"
      ]
     },
     "execution_count": 63,
     "metadata": {},
     "output_type": "execute_result"
    }
   ],
   "source": [
    "vector = tf.constant([18, 12, 15])\n",
    "vector"
   ]
  },
  {
   "cell_type": "code",
   "execution_count": 64,
   "metadata": {},
   "outputs": [
    {
     "data": {
      "text/plain": [
       "1"
      ]
     },
     "execution_count": 64,
     "metadata": {},
     "output_type": "execute_result"
    }
   ],
   "source": [
    "vector.ndim"
   ]
  },
  {
   "cell_type": "code",
   "execution_count": 65,
   "metadata": {},
   "outputs": [
    {
     "data": {
      "text/plain": [
       "<tf.Tensor: shape=(3, 3), dtype=int32, numpy=\n",
       "array([[1, 2, 3],\n",
       "       [4, 5, 6],\n",
       "       [7, 8, 9]], dtype=int32)>"
      ]
     },
     "execution_count": 65,
     "metadata": {},
     "output_type": "execute_result"
    }
   ],
   "source": [
    "mat1 = tf.constant([[1, 2, 3], [4, 5, 6], [7, 8, 9]])\n",
    "mat1"
   ]
  },
  {
   "cell_type": "code",
   "execution_count": 66,
   "metadata": {},
   "outputs": [
    {
     "data": {
      "text/plain": [
       "2"
      ]
     },
     "execution_count": 66,
     "metadata": {},
     "output_type": "execute_result"
    }
   ],
   "source": [
    "mat1.ndim"
   ]
  },
  {
   "cell_type": "code",
   "execution_count": 67,
   "metadata": {},
   "outputs": [
    {
     "data": {
      "text/plain": [
       "<tf.Tensor: shape=(3, 3), dtype=float16, numpy=\n",
       "array([[1., 2., 3.],\n",
       "       [4., 5., 6.],\n",
       "       [7., 8., 9.]], dtype=float16)>"
      ]
     },
     "execution_count": 67,
     "metadata": {},
     "output_type": "execute_result"
    }
   ],
   "source": [
    "mat2 = tf.constant([[1., 2., 3.],\n",
    "                    [4., 5., 6.],\n",
    "                    [7., 8., 9.]], dtype=tf.float16)\n",
    "\n",
    "mat2"
   ]
  },
  {
   "cell_type": "code",
   "execution_count": 68,
   "metadata": {},
   "outputs": [
    {
     "data": {
      "text/plain": [
       "2"
      ]
     },
     "execution_count": 68,
     "metadata": {},
     "output_type": "execute_result"
    }
   ],
   "source": [
    "mat2.ndim"
   ]
  },
  {
   "cell_type": "code",
   "execution_count": 69,
   "metadata": {},
   "outputs": [
    {
     "data": {
      "text/plain": [
       "<tf.Tensor: shape=(3, 2, 3), dtype=int32, numpy=\n",
       "array([[[ 1,  2,  3],\n",
       "        [ 4,  5,  6]],\n",
       "\n",
       "       [[ 7,  8,  9],\n",
       "        [10, 11, 12]],\n",
       "\n",
       "       [[13, 14, 15],\n",
       "        [16, 17, 18]]], dtype=int32)>"
      ]
     },
     "execution_count": 69,
     "metadata": {},
     "output_type": "execute_result"
    }
   ],
   "source": [
    "tensor = tf.constant([[[1, 2, 3,],\n",
    "                       [4, 5, 6]],\n",
    "                      [[7, 8, 9],\n",
    "                       [10, 11, 12]],\n",
    "                      [[13, 14, 15],\n",
    "                       [16, 17, 18]]])\n",
    "tensor"
   ]
  },
  {
   "cell_type": "code",
   "execution_count": 70,
   "metadata": {},
   "outputs": [
    {
     "data": {
      "text/plain": [
       "3"
      ]
     },
     "execution_count": 70,
     "metadata": {},
     "output_type": "execute_result"
    }
   ],
   "source": [
    "tensor.ndim"
   ]
  },
  {
   "cell_type": "code",
   "execution_count": 71,
   "metadata": {},
   "outputs": [],
   "source": [
    "rnd1 = tf.random.Generator.from_seed(70)\n",
    "rnd1 = rnd1.normal(shape=(40, 20))\n",
    "rnd2 = tf.random.Generator.from_seed(10)\n",
    "rnd2 = rnd2.normal(shape=(50, 30))"
   ]
  },
  {
   "cell_type": "code",
   "execution_count": 72,
   "metadata": {},
   "outputs": [
    {
     "name": "stdout",
     "output_type": "stream",
     "text": [
      "   x1  x2  x3  x4  x5  x6  x7  x8\n",
      "0   7   6   1   5   5   6   8   4\n",
      "1   5   3   2   4   5   5   8   1\n",
      "2   6   9   1   1   0   6   3   6\n",
      "3   8   6   3   5   4   6   4   7\n",
      "4   6   6   7   8   9   7   6   3\n",
      "5   0   4   6   0   5   5   8   0\n",
      "6   8   4   9   6   6   5   1   0\n",
      "7   8   6   4   0   4   4   9   8\n",
      "             x1       x2        x3        x4        x5       x6        x7  \\\n",
      "count  8.000000  8.00000  8.000000  8.000000  8.000000  8.00000  8.000000   \n",
      "mean   6.000000  5.50000  4.125000  3.625000  4.750000  5.50000  5.875000   \n",
      "std    2.672612  1.85164  2.948971  2.973094  2.492847  0.92582  2.900123   \n",
      "min    0.000000  3.00000  1.000000  0.000000  0.000000  4.00000  1.000000   \n",
      "25%    5.750000  4.00000  1.750000  0.750000  4.000000  5.00000  3.750000   \n",
      "50%    6.500000  6.00000  3.500000  4.500000  5.000000  5.50000  7.000000   \n",
      "75%    8.000000  6.00000  6.250000  5.250000  5.250000  6.00000  8.000000   \n",
      "max    8.000000  9.00000  9.000000  8.000000  9.000000  7.00000  9.000000   \n",
      "\n",
      "             x8  \n",
      "count  8.000000  \n",
      "mean   3.625000  \n",
      "std    3.159453  \n",
      "min    0.000000  \n",
      "25%    0.750000  \n",
      "50%    3.500000  \n",
      "75%    6.250000  \n",
      "max    8.000000  \n"
     ]
    }
   ],
   "source": [
    "df2 = pd.DataFrame(np.random.randint(0, 10, (8, 8)), columns=[\"x1\", \"x2\", \"x3\", \"x4\", \"x5\", \"x6\", \"x7\", \"x8\"])\n",
    "print(df2)\n",
    "print(df2.describe(include='all'))"
   ]
  },
  {
   "cell_type": "code",
   "execution_count": 73,
   "metadata": {},
   "outputs": [
    {
     "name": "stdout",
     "output_type": "stream",
     "text": [
      "   feature1  feature2  feature3  target\n",
      "0  0.834275  0.667517  0.063538       3\n",
      "1  0.259943  0.523435  0.560316       2\n",
      "2  0.090543  0.097074  0.584139       0\n",
      "3  0.772502  0.917795  0.064132       3\n",
      "4  0.106356  0.354154  0.238921       0\n",
      "5  0.899008  0.918768  0.296861       2\n",
      "6  0.061308  0.646493  0.129649       1\n",
      "7  0.300442  0.776085  0.933893       1\n",
      "8  0.084634  0.589887  0.923934       3\n",
      "9  0.509013  0.396275  0.375103       3\n",
      "features:[0.8342746  0.6675171  0.06353834] target:3\n",
      "features:[0.25994283 0.523435   0.56031585] target:2\n",
      "features:[0.09054292 0.09707367 0.58413947] target:0\n",
      "features:[0.77250236 0.91779536 0.06413165] target:3\n",
      "features:[0.10635599 0.35415447 0.23892099] target:0\n",
      "features:[0.899008   0.9187675  0.29686102] target:2\n",
      "features:[0.06130757 0.6464931  0.12964924] target:1\n",
      "features:[0.30044153 0.7760847  0.93389326] target:1\n",
      "features:[0.08463426 0.58988667 0.9239341 ] target:3\n",
      "features:[0.5090125  0.39627466 0.37510347] target:3\n"
     ]
    }
   ],
   "source": [
    "training_df: pd.DataFrame = pd.DataFrame(\n",
    "    data={\n",
    "        'feature1': np.random.rand(10),\n",
    "        'feature2': np.random.rand(10),\n",
    "        'feature3': np.random.rand(10),\n",
    "        'target': np.random.randint(0, 5, 10)\n",
    "    }\n",
    ")\n",
    "features = ['feature1', 'feature2', 'feature3']\n",
    "print(training_df)\n",
    "\n",
    "training_dataset = (\n",
    "    tf.data.Dataset.from_tensor_slices(\n",
    "        (\n",
    "            tf.cast(training_df[features].values, tf.float32),\n",
    "            tf.cast(training_df['target'].values, tf.int32)\n",
    "        )\n",
    "    )\n",
    ")\n",
    "\n",
    "for features_tensor, target_tensor in training_dataset:\n",
    "    print(f'features:{features_tensor} target:{target_tensor}')"
   ]
  },
  {
   "cell_type": "code",
   "execution_count": 74,
   "metadata": {},
   "outputs": [
    {
     "data": {
      "image/png": "[encoded data removed]",
      "text/plain": [
       "<Figure size 432x288 with 1 Axes>"
      ]
     },
     "metadata": {
      "needs_background": "light"
     },
     "output_type": "display_data"
    }
   ],
   "source": [
    "x = np.arange(0, 5, 0.5)\n",
    "y1 = x * 2\n",
    "\n",
    "adder = np.random.random(len(x)) * 1.5 - 0.7\n",
    "y2 = y1 + adder\n",
    "\n",
    "plt.figure()\n",
    "plt.grid()\n",
    "plt.xticks(x)\n",
    "plt.yticks(range(int(x[-1] * 1.5 + 1)))\n",
    "plt.xlabel('X')\n",
    "plt.ylabel('Y')\n",
    "\n",
    "plt.plot(x, y1, \"r--\", label=\"prediction\")\n",
    "plt.plot(x, y2, \"b\", label=\"result\")\n",
    "\n",
    "plt.legend()\n",
    "plt.show()"
   ]
  },
  {
   "cell_type": "code",
   "execution_count": 75,
   "metadata": {},
   "outputs": [
    {
     "name": "stdout",
     "output_type": "stream",
     "text": [
      "0.38112331358358953\n",
      "0.1778509386112659\n"
     ]
    }
   ],
   "source": [
    "import sklearn.metrics as metrics\n",
    "mae = metrics.mean_absolute_error(y2, y1)\n",
    "mse = metrics.mean_squared_error(y2, y1)\n",
    "print(mae)\n",
    "print(mse)"
   ]
  },
  {
   "cell_type": "code",
   "execution_count": 76,
   "metadata": {},
   "outputs": [
    {
     "name": "stdout",
     "output_type": "stream",
     "text": [
      "     X         Y  Y_hat\n",
      "0  0.0 -0.273688    0.0\n",
      "1  0.5  1.138428    1.0\n",
      "2  1.0  2.306630    2.0\n",
      "3  1.5  2.463547    3.0\n",
      "4  2.0  3.683797    4.0\n",
      "5  2.5  5.362790    5.0\n",
      "6  3.0  6.296778    6.0\n",
      "7  3.5  7.669192    7.0\n",
      "8  4.0  8.700604    8.0\n",
      "9  4.5  9.210467    9.0\n"
     ]
    }
   ],
   "source": [
    "df = pd.DataFrame(np.array([x, y2, y1]).swapaxes(0,1), columns=['X', 'Y', 'Y_hat'])\n",
    "print(df)\n",
    "with open('data.csv', 'w') as f:\n",
    "    f.write(df.to_csv(index=False))"
   ]
  },
  {
   "cell_type": "code",
   "execution_count": 77,
   "metadata": {},
   "outputs": [
    {
     "name": "stdout",
     "output_type": "stream",
     "text": [
      "Epoch 1/80\n"
     ]
    },
    {
     "ename": "ValueError",
     "evalue": "in user code:\n\n    File \"/Users/margosha/opt/anaconda3/lib/python3.8/site-packages/keras/engine/training.py\", line 878, in train_function  *\n        return step_function(self, iterator)\n    File \"/Users/margosha/opt/anaconda3/lib/python3.8/site-packages/keras/engine/training.py\", line 867, in step_function  **\n        outputs = model.distribute_strategy.run(run_step, args=(data,))\n    File \"/Users/margosha/opt/anaconda3/lib/python3.8/site-packages/keras/engine/training.py\", line 860, in run_step  **\n        outputs = model.train_step(data)\n    File \"/Users/margosha/opt/anaconda3/lib/python3.8/site-packages/keras/engine/training.py\", line 808, in train_step\n        y_pred = self(x, training=True)\n    File \"/Users/margosha/opt/anaconda3/lib/python3.8/site-packages/keras/utils/traceback_utils.py\", line 67, in error_handler\n        raise e.with_traceback(filtered_tb) from None\n    File \"/Users/margosha/opt/anaconda3/lib/python3.8/site-packages/keras/engine/input_spec.py\", line 227, in assert_input_compatibility\n        raise ValueError(f'Input {input_index} of layer \"{layer_name}\" '\n\n    ValueError: Exception encountered when calling layer \"sequential_3\" (type Sequential).\n    \n    Input 0 of layer \"dense_3\" is incompatible with the layer: expected min_ndim=2, found ndim=1. Full shape received: (None,)\n    \n    Call arguments received:\n      • inputs=tf.Tensor(shape=(None,), dtype=float32)\n      • training=True\n      • mask=None\n",
     "output_type": "error",
     "traceback": [
      "\u001b[0;31m---------------------------------------------------------------------------\u001b[0m",
      "\u001b[0;31mValueError\u001b[0m                                Traceback (most recent call last)",
      "\u001b[0;32m<ipython-input-77-a962ef6360bb>\u001b[0m in \u001b[0;36m<module>\u001b[0;34m\u001b[0m\n\u001b[1;32m     13\u001b[0m               metrics=[\"mae\"])\n\u001b[1;32m     14\u001b[0m \u001b[0;34m\u001b[0m\u001b[0m\n\u001b[0;32m---> 15\u001b[0;31m \u001b[0mmodel\u001b[0m\u001b[0;34m.\u001b[0m\u001b[0mfit\u001b[0m\u001b[0;34m(\u001b[0m\u001b[0mx\u001b[0m\u001b[0;34m,\u001b[0m \u001b[0my1\u001b[0m\u001b[0;34m,\u001b[0m \u001b[0mepochs\u001b[0m\u001b[0;34m=\u001b[0m\u001b[0;36m80\u001b[0m\u001b[0;34m)\u001b[0m\u001b[0;34m\u001b[0m\u001b[0;34m\u001b[0m\u001b[0m\n\u001b[0m",
      "\u001b[0;32m~/opt/anaconda3/lib/python3.8/site-packages/keras/utils/traceback_utils.py\u001b[0m in \u001b[0;36merror_handler\u001b[0;34m(*args, **kwargs)\u001b[0m\n\u001b[1;32m     65\u001b[0m     \u001b[0;32mexcept\u001b[0m \u001b[0mException\u001b[0m \u001b[0;32mas\u001b[0m \u001b[0me\u001b[0m\u001b[0;34m:\u001b[0m  \u001b[0;31m# pylint: disable=broad-except\u001b[0m\u001b[0;34m\u001b[0m\u001b[0;34m\u001b[0m\u001b[0m\n\u001b[1;32m     66\u001b[0m       \u001b[0mfiltered_tb\u001b[0m \u001b[0;34m=\u001b[0m \u001b[0m_process_traceback_frames\u001b[0m\u001b[0;34m(\u001b[0m\u001b[0me\u001b[0m\u001b[0;34m.\u001b[0m\u001b[0m__traceback__\u001b[0m\u001b[0;34m)\u001b[0m\u001b[0;34m\u001b[0m\u001b[0;34m\u001b[0m\u001b[0m\n\u001b[0;32m---> 67\u001b[0;31m       \u001b[0;32mraise\u001b[0m \u001b[0me\u001b[0m\u001b[0;34m.\u001b[0m\u001b[0mwith_traceback\u001b[0m\u001b[0;34m(\u001b[0m\u001b[0mfiltered_tb\u001b[0m\u001b[0;34m)\u001b[0m \u001b[0;32mfrom\u001b[0m \u001b[0;32mNone\u001b[0m\u001b[0;34m\u001b[0m\u001b[0;34m\u001b[0m\u001b[0m\n\u001b[0m\u001b[1;32m     68\u001b[0m     \u001b[0;32mfinally\u001b[0m\u001b[0;34m:\u001b[0m\u001b[0;34m\u001b[0m\u001b[0;34m\u001b[0m\u001b[0m\n\u001b[1;32m     69\u001b[0m       \u001b[0;32mdel\u001b[0m \u001b[0mfiltered_tb\u001b[0m\u001b[0;34m\u001b[0m\u001b[0;34m\u001b[0m\u001b[0m\n",
      "\u001b[0;32m~/opt/anaconda3/lib/python3.8/site-packages/tensorflow/python/framework/func_graph.py\u001b[0m in \u001b[0;36mautograph_handler\u001b[0;34m(*args, **kwargs)\u001b[0m\n\u001b[1;32m   1127\u001b[0m           \u001b[0;32mexcept\u001b[0m \u001b[0mException\u001b[0m \u001b[0;32mas\u001b[0m \u001b[0me\u001b[0m\u001b[0;34m:\u001b[0m  \u001b[0;31m# pylint:disable=broad-except\u001b[0m\u001b[0;34m\u001b[0m\u001b[0;34m\u001b[0m\u001b[0m\n\u001b[1;32m   1128\u001b[0m             \u001b[0;32mif\u001b[0m \u001b[0mhasattr\u001b[0m\u001b[0;34m(\u001b[0m\u001b[0me\u001b[0m\u001b[0;34m,\u001b[0m \u001b[0;34m\"ag_error_metadata\"\u001b[0m\u001b[0;34m)\u001b[0m\u001b[0;34m:\u001b[0m\u001b[0;34m\u001b[0m\u001b[0;34m\u001b[0m\u001b[0m\n\u001b[0;32m-> 1129\u001b[0;31m               \u001b[0;32mraise\u001b[0m \u001b[0me\u001b[0m\u001b[0;34m.\u001b[0m\u001b[0mag_error_metadata\u001b[0m\u001b[0;34m.\u001b[0m\u001b[0mto_exception\u001b[0m\u001b[0;34m(\u001b[0m\u001b[0me\u001b[0m\u001b[0;34m)\u001b[0m\u001b[0;34m\u001b[0m\u001b[0;34m\u001b[0m\u001b[0m\n\u001b[0m\u001b[1;32m   1130\u001b[0m             \u001b[0;32melse\u001b[0m\u001b[0;34m:\u001b[0m\u001b[0;34m\u001b[0m\u001b[0;34m\u001b[0m\u001b[0m\n\u001b[1;32m   1131\u001b[0m               \u001b[0;32mraise\u001b[0m\u001b[0;34m\u001b[0m\u001b[0;34m\u001b[0m\u001b[0m\n",
      "\u001b[0;31mValueError\u001b[0m: in user code:\n\n    File \"/Users/margosha/opt/anaconda3/lib/python3.8/site-packages/keras/engine/training.py\", line 878, in train_function  *\n        return step_function(self, iterator)\n    File \"/Users/margosha/opt/anaconda3/lib/python3.8/site-packages/keras/engine/training.py\", line 867, in step_function  **\n        outputs = model.distribute_strategy.run(run_step, args=(data,))\n    File \"/Users/margosha/opt/anaconda3/lib/python3.8/site-packages/keras/engine/training.py\", line 860, in run_step  **\n        outputs = model.train_step(data)\n    File \"/Users/margosha/opt/anaconda3/lib/python3.8/site-packages/keras/engine/training.py\", line 808, in train_step\n        y_pred = self(x, training=True)\n    File \"/Users/margosha/opt/anaconda3/lib/python3.8/site-packages/keras/utils/traceback_utils.py\", line 67, in error_handler\n        raise e.with_traceback(filtered_tb) from None\n    File \"/Users/margosha/opt/anaconda3/lib/python3.8/site-packages/keras/engine/input_spec.py\", line 227, in assert_input_compatibility\n        raise ValueError(f'Input {input_index} of layer \"{layer_name}\" '\n\n    ValueError: Exception encountered when calling layer \"sequential_3\" (type Sequential).\n    \n    Input 0 of layer \"dense_3\" is incompatible with the layer: expected min_ndim=2, found ndim=1. Full shape received: (None,)\n    \n    Call arguments received:\n      • inputs=tf.Tensor(shape=(None,), dtype=float32)\n      • training=True\n      • mask=None\n"
     ]
    }
   ],
   "source": [
    "input_shape = x[0].shape \n",
    "output_shape = y1[0].shape\n",
    "input_shape, output_shape \n",
    "\n",
    "tf.random.set_seed(42)\n",
    "\n",
    "model = tf.keras.Sequential([\n",
    "  tf.keras.layers.Dense(1)\n",
    "])\n",
    "\n",
    "model.compile(loss=tf.keras.losses.mae,\n",
    "              optimizer=tf.keras.optimizers.SGD(),\n",
    "              metrics=[\"mae\"])\n",
    "\n",
    "model.fit(x, y1, epochs=80)"
   ]
  },
  {
   "cell_type": "code",
   "execution_count": null,
   "metadata": {},
   "outputs": [],
   "source": [
    "X_train = x[:80]\n",
    "y_train = y1[:80]\n",
    "\n",
    "X_test = x[80:] \n",
    "y_test = y1[80:]\n",
    "\n",
    "len(X_train), len(X_test)"
   ]
  },
  {
   "cell_type": "code",
   "execution_count": null,
   "metadata": {},
   "outputs": [],
   "source": [
    "plt.figure(figsize=(10, 6))\n",
    "plt.scatter(X_train, y_train, c='b', label='Training')\n",
    "plt.scatter(X_test, y_test, c='g', label='Testing')\n",
    "plt.legend()"
   ]
  },
  {
   "cell_type": "code",
   "execution_count": null,
   "metadata": {},
   "outputs": [],
   "source": [
    "model.summary()"
   ]
  },
  {
   "cell_type": "code",
   "execution_count": null,
   "metadata": {},
   "outputs": [],
   "source": [
    "model.fit(X_train, y_train, epochs=80, verbose=0)"
   ]
  },
  {
   "cell_type": "code",
   "execution_count": null,
   "metadata": {},
   "outputs": [],
   "source": [
    "model.predict([20.0])"
   ]
  },
  {
   "cell_type": "code",
   "execution_count": null,
   "metadata": {},
   "outputs": [],
   "source": [
    "tf.random.set_seed(42)\n",
    "\n",
    "model_1 = tf.keras.Sequential([\n",
    "  tf.keras.layers.Dense(100), \n",
    "  tf.keras.layers.Dense(10),\n",
    "  tf.keras.layers.Dense(1)\n",
    "])\n",
    "\n",
    "model_1.compile(loss=tf.keras.losses.BinaryCrossentropy(),\n",
    "                optimizer=tf.keras.optimizers.Adam(), \n",
    "                metrics=['accuracy'])\n",
    "\n",
    "model_1.fit(x, y1, epochs=20, verbose=0)"
   ]
  },
  {
   "cell_type": "code",
   "execution_count": null,
   "metadata": {},
   "outputs": [],
   "source": [
    "def plot_decision_boundary(model, X, y):\n",
    "    \n",
    "  x_min, x_max = X[:, 0].min() - 0.1, X[:, 0].max() + 0.1\n",
    "  y_min, y_max = X[:, 1].min() - 0.1, X[:, 1].max() + 0.1\n",
    "  xx, yy = np.meshgrid(np.linspace(x_min, x_max, 100),\n",
    "                       np.linspace(y_min, y_max, 100))\n",
    "  \n",
    "  x_in = np.c_[xx.ravel(), yy.ravel()]\n",
    " \n",
    "  y_pred = model.predict(x_in)\n",
    "\n",
    "  if len(y_pred[0]) > 1:\n",
    "    print(\"doing multiclass classification...\")\n",
    "    y_pred = np.argmax(y_pred, axis=1).reshape(xx.shape)\n",
    "  else:\n",
    "    print(\"doing binary classifcation...\")\n",
    "    y_pred = np.round(y_pred).reshape(xx.shape)\n",
    "\n",
    "  plt.contourf(xx, yy, y_pred, cmap=plt.cm.RdYlBu, alpha=0.7)\n",
    "  plt.scatter(X[:, 0], X[:, 1], c=y, s=40, cmap=plt.cm.RdYlBu)\n",
    "  plt.xlim(xx.min(), xx.max())\n",
    "  plt.ylim(yy.min(), yy.max())"
   ]
  },
  {
   "cell_type": "code",
   "execution_count": null,
   "metadata": {},
   "outputs": [],
   "source": [
    "tf.random.set_seed(42)\n",
    "\n",
    "X_regression = np.arange(0, 100, 5)\n",
    "y_regression = np.arange(100, 110, 5)\n",
    "\n",
    "X_reg_train = X_regression[:150]\n",
    "X_reg_test = X_regression[150:]\n",
    "y_reg_train = y_regression[:150]\n",
    "y_reg_test = y_regression[150:]"
   ]
  },
  {
   "cell_type": "code",
   "execution_count": null,
   "metadata": {},
   "outputs": [],
   "source": [
    "model_1.evaluate(x, y1)"
   ]
  },
  {
   "cell_type": "code",
   "execution_count": null,
   "metadata": {},
   "outputs": [],
   "source": [
    "len(x)"
   ]
  },
  {
   "cell_type": "code",
   "execution_count": null,
   "metadata": {},
   "outputs": [],
   "source": [
    "X_train, y_train = x[:800], y1[:800]\n",
    "X_test, y_test = x[800:], y1[800:]\n",
    "\n",
    "X_train.shape, X_test.shape"
   ]
  },
  {
   "cell_type": "code",
   "execution_count": null,
   "metadata": {},
   "outputs": [],
   "source": [
    "tf.random.set_seed(42)\n",
    "\n",
    "model_2 = tf.keras.Sequential([\n",
    "  tf.keras.layers.Dense(4, activation=\"relu\"), \n",
    "  tf.keras.layers.Dense(4, activation=\"relu\"),\n",
    "  tf.keras.layers.Dense(1, activation=\"sigmoid\")\n",
    "])\n",
    "\n",
    "model_2.compile(loss=tf.keras.losses.binary_crossentropy,\n",
    "                optimizer=tf.keras.optimizers.Adam(lr=0.01), \n",
    "                metrics=['accuracy'])\n",
    "\n",
    "history = model_2.fit(X_train, y_train, epochs=25)"
   ]
  },
  {
   "cell_type": "code",
   "execution_count": null,
   "metadata": {},
   "outputs": [],
   "source": [
    "pd.DataFrame(history.history)"
   ]
  },
  {
   "cell_type": "code",
   "execution_count": null,
   "metadata": {},
   "outputs": [],
   "source": [
    "pd.DataFrame(history.history).plot()\n",
    "plt.title(\"training_2 \")"
   ]
  },
  {
   "cell_type": "code",
   "execution_count": null,
   "metadata": {},
   "outputs": [],
   "source": [
    "input_shape = x[0].shape \n",
    "output_shape = y1[0].shape\n",
    "input_shape, output_shape \n",
    "\n",
    "tf.random.set_seed(42)\n",
    "\n",
    "model = tf.keras.Sequential([\n",
    "  tf.keras.layers.Dense(1)\n",
    "])\n",
    "\n",
    "model.compile(loss=tf.keras.losses.mae,\n",
    "              optimizer=tf.keras.optimizers.SGD(),\n",
    "              metrics=[\"mae\"])\n",
    "\n",
    "model.fit(x, y1, epochs=80)"
   ]
  },
  {
   "cell_type": "code",
   "execution_count": null,
   "metadata": {},
   "outputs": [],
   "source": [
    "X_train = x[:80]\n",
    "y_train = y1[:80]\n",
    "\n",
    "X_test = x[80:] \n",
    "y_test = y1[80:]\n",
    "\n",
    "len(X_train), len(X_test)"
   ]
  },
  {
   "cell_type": "code",
   "execution_count": null,
   "metadata": {},
   "outputs": [],
   "source": [
    "plt.figure(figsize=(10, 6))\n",
    "plt.scatter(X_train, y_train, c='b', label='Training')\n",
    "plt.scatter(X_test, y_test, c='g', label='Testing')\n",
    "plt.legend()"
   ]
  },
  {
   "cell_type": "code",
   "execution_count": null,
   "metadata": {},
   "outputs": [],
   "source": [
    "model.summary()"
   ]
  },
  {
   "cell_type": "code",
   "execution_count": null,
   "metadata": {},
   "outputs": [],
   "source": [
    "model.fit(X_train, y_train, epochs=80, verbose=0)"
   ]
  },
  {
   "cell_type": "code",
   "execution_count": null,
   "metadata": {},
   "outputs": [],
   "source": [
    "model.predict([20.0])"
   ]
  }
 ],
 "metadata": {
  "interpreter": {
   "hash": "cc5f70855ac006f3de45a3cc3b9e7d8d53845e50458809cb162b0174266dec97"
  },
  "kernelspec": {
   "display_name": "Python 3.8.8 64-bit ('base': conda)",
   "name": "python3"
  },
  "language_info": {
   "codemirror_mode": {
    "name": "ipython",
    "version": 3
   },
   "file_extension": ".py",
   "mimetype": "text/x-python",
   "name": "python",
   "nbconvert_exporter": "python",
   "pygments_lexer": "ipython3",
   "version": "3.8.8"
  },
  "orig_nbformat": 4
 },
 "nbformat": 4,
 "nbformat_minor": 2
}
